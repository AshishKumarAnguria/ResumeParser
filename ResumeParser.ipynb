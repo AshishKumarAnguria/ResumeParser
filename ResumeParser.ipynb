{
  "nbformat": 4,
  "nbformat_minor": 0,
  "metadata": {
    "colab": {
      "name": "ResumeParser.ipynb",
      "provenance": [],
      "collapsed_sections": [],
      "toc_visible": true,
      "authorship_tag": "ABX9TyNZd8wv5nwf1nEO8Xs+kX3k",
      "include_colab_link": true
    },
    "kernelspec": {
      "name": "python3",
      "display_name": "Python 3"
    },
    "language_info": {
      "name": "python"
    },
    "accelerator": "GPU"
  },
  "cells": [
    {
      "cell_type": "markdown",
      "metadata": {
        "id": "view-in-github",
        "colab_type": "text"
      },
      "source": [
        "<a href=\"https://colab.research.google.com/github/AshishKumarAnguria/ResumeParser/blob/main/ResumeParser.ipynb\" target=\"_parent\"><img src=\"https://colab.research.google.com/assets/colab-badge.svg\" alt=\"Open In Colab\"/></a>"
      ]
    },
    {
      "cell_type": "code",
      "metadata": {
        "colab": {
          "base_uri": "https://localhost:8080/"
        },
        "id": "Nwqi3LbumIpn",
        "outputId": "d90ec57d-b73c-4797-f896-5aa42ed5ea94"
      },
      "source": [
        "from google.colab import drive\n",
        "drive.mount('/content/drive')"
      ],
      "execution_count": 1,
      "outputs": [
        {
          "output_type": "stream",
          "text": [
            "Mounted at /content/drive\n"
          ],
          "name": "stdout"
        }
      ]
    },
    {
      "cell_type": "code",
      "metadata": {
        "id": "fhxmewtUnUeh"
      },
      "source": [
        "import numpy as np\n",
        "import pandas as pd\n",
        "\n",
        "import spacy\n",
        "from spacy.gold import biluo_tags_from_offsets\n",
        "nlp = spacy.load('en_core_web_lg')\n"
      ],
      "execution_count": 2,
      "outputs": []
    },
    {
      "cell_type": "code",
      "metadata": {
        "colab": {
          "base_uri": "https://localhost:8080/"
        },
        "id": "Ny_lZ99rox5i",
        "outputId": "f2a9905d-75f2-4eae-f1f6-57404c7f8879"
      },
      "source": [
        "!python -m spacy download en_core_web_lg"
      ],
      "execution_count": 1,
      "outputs": [
        {
          "output_type": "stream",
          "text": [
            "Collecting en_core_web_lg==2.2.5\n",
            "\u001b[?25l  Downloading https://github.com/explosion/spacy-models/releases/download/en_core_web_lg-2.2.5/en_core_web_lg-2.2.5.tar.gz (827.9MB)\n",
            "\u001b[K     |████████████████████████████████| 827.9MB 1.1MB/s \n",
            "\u001b[?25hRequirement already satisfied: spacy>=2.2.2 in /usr/local/lib/python3.7/dist-packages (from en_core_web_lg==2.2.5) (2.2.4)\n",
            "Requirement already satisfied: plac<1.2.0,>=0.9.6 in /usr/local/lib/python3.7/dist-packages (from spacy>=2.2.2->en_core_web_lg==2.2.5) (1.1.3)\n",
            "Requirement already satisfied: requests<3.0.0,>=2.13.0 in /usr/local/lib/python3.7/dist-packages (from spacy>=2.2.2->en_core_web_lg==2.2.5) (2.23.0)\n",
            "Requirement already satisfied: murmurhash<1.1.0,>=0.28.0 in /usr/local/lib/python3.7/dist-packages (from spacy>=2.2.2->en_core_web_lg==2.2.5) (1.0.5)\n",
            "Requirement already satisfied: blis<0.5.0,>=0.4.0 in /usr/local/lib/python3.7/dist-packages (from spacy>=2.2.2->en_core_web_lg==2.2.5) (0.4.1)\n",
            "Requirement already satisfied: thinc==7.4.0 in /usr/local/lib/python3.7/dist-packages (from spacy>=2.2.2->en_core_web_lg==2.2.5) (7.4.0)\n",
            "Requirement already satisfied: cymem<2.1.0,>=2.0.2 in /usr/local/lib/python3.7/dist-packages (from spacy>=2.2.2->en_core_web_lg==2.2.5) (2.0.5)\n",
            "Requirement already satisfied: catalogue<1.1.0,>=0.0.7 in /usr/local/lib/python3.7/dist-packages (from spacy>=2.2.2->en_core_web_lg==2.2.5) (1.0.0)\n",
            "Requirement already satisfied: srsly<1.1.0,>=1.0.2 in /usr/local/lib/python3.7/dist-packages (from spacy>=2.2.2->en_core_web_lg==2.2.5) (1.0.5)\n",
            "Requirement already satisfied: setuptools in /usr/local/lib/python3.7/dist-packages (from spacy>=2.2.2->en_core_web_lg==2.2.5) (56.1.0)\n",
            "Requirement already satisfied: numpy>=1.15.0 in /usr/local/lib/python3.7/dist-packages (from spacy>=2.2.2->en_core_web_lg==2.2.5) (1.19.5)\n",
            "Requirement already satisfied: preshed<3.1.0,>=3.0.2 in /usr/local/lib/python3.7/dist-packages (from spacy>=2.2.2->en_core_web_lg==2.2.5) (3.0.5)\n",
            "Requirement already satisfied: tqdm<5.0.0,>=4.38.0 in /usr/local/lib/python3.7/dist-packages (from spacy>=2.2.2->en_core_web_lg==2.2.5) (4.41.1)\n",
            "Requirement already satisfied: wasabi<1.1.0,>=0.4.0 in /usr/local/lib/python3.7/dist-packages (from spacy>=2.2.2->en_core_web_lg==2.2.5) (0.8.2)\n",
            "Requirement already satisfied: certifi>=2017.4.17 in /usr/local/lib/python3.7/dist-packages (from requests<3.0.0,>=2.13.0->spacy>=2.2.2->en_core_web_lg==2.2.5) (2020.12.5)\n",
            "Requirement already satisfied: chardet<4,>=3.0.2 in /usr/local/lib/python3.7/dist-packages (from requests<3.0.0,>=2.13.0->spacy>=2.2.2->en_core_web_lg==2.2.5) (3.0.4)\n",
            "Requirement already satisfied: idna<3,>=2.5 in /usr/local/lib/python3.7/dist-packages (from requests<3.0.0,>=2.13.0->spacy>=2.2.2->en_core_web_lg==2.2.5) (2.10)\n",
            "Requirement already satisfied: urllib3!=1.25.0,!=1.25.1,<1.26,>=1.21.1 in /usr/local/lib/python3.7/dist-packages (from requests<3.0.0,>=2.13.0->spacy>=2.2.2->en_core_web_lg==2.2.5) (1.24.3)\n",
            "Requirement already satisfied: importlib-metadata>=0.20; python_version < \"3.8\" in /usr/local/lib/python3.7/dist-packages (from catalogue<1.1.0,>=0.0.7->spacy>=2.2.2->en_core_web_lg==2.2.5) (4.0.1)\n",
            "Requirement already satisfied: typing-extensions>=3.6.4; python_version < \"3.8\" in /usr/local/lib/python3.7/dist-packages (from importlib-metadata>=0.20; python_version < \"3.8\"->catalogue<1.1.0,>=0.0.7->spacy>=2.2.2->en_core_web_lg==2.2.5) (3.7.4.3)\n",
            "Requirement already satisfied: zipp>=0.5 in /usr/local/lib/python3.7/dist-packages (from importlib-metadata>=0.20; python_version < \"3.8\"->catalogue<1.1.0,>=0.0.7->spacy>=2.2.2->en_core_web_lg==2.2.5) (3.4.1)\n",
            "Building wheels for collected packages: en-core-web-lg\n",
            "  Building wheel for en-core-web-lg (setup.py) ... \u001b[?25l\u001b[?25hdone\n",
            "  Created wheel for en-core-web-lg: filename=en_core_web_lg-2.2.5-cp37-none-any.whl size=829180944 sha256=c4a188ba32c1b626e25193ce278800f3e588ad3d3a2c8289090aa4da1ab30a93\n",
            "  Stored in directory: /tmp/pip-ephem-wheel-cache-x6nwcmo7/wheels/2a/c1/a6/fc7a877b1efca9bc6a089d6f506f16d3868408f9ff89f8dbfc\n",
            "Successfully built en-core-web-lg\n",
            "Installing collected packages: en-core-web-lg\n",
            "Successfully installed en-core-web-lg-2.2.5\n",
            "\u001b[38;5;2m✔ Download and installation successful\u001b[0m\n",
            "You can now load the model via spacy.load('en_core_web_lg')\n"
          ],
          "name": "stdout"
        }
      ]
    },
    {
      "cell_type": "code",
      "metadata": {
        "colab": {
          "base_uri": "https://localhost:8080/"
        },
        "id": "1s810G94oltv",
        "outputId": "50d2e751-238d-432e-daf0-b9290b814c5a"
      },
      "source": [
        "prefixes = ('\\\\n', ) + nlp.Defaults.prefixes\n",
        "print(prefixes)\n",
        "print(\"____________________________________________________\")\n",
        "prefix_regex = spacy.util.compile_prefix_regex(prefixes)\n",
        "print(prefix_regex)\n",
        "print(\"____________________________________________________\")\n",
        "nlp.tokenizer.prefix_search = prefix_regex.search\n",
        "print(prefix_regex.search)\n",
        "print(\"____________________________________________________\")"
      ],
      "execution_count": 3,
      "outputs": [
        {
          "output_type": "stream",
          "text": [
            "('\\\\n', '§', '%', '=', '—', '–', '\\\\+(?![0-9])', '…', '……', ',', ':', ';', '\\\\!', '\\\\?', '¿', '؟', '¡', '\\\\(', '\\\\)', '\\\\[', '\\\\]', '\\\\{', '\\\\}', '<', '>', '_', '#', '\\\\*', '&', '。', '？', '！', '，', '、', '；', '：', '～', '·', '।', '،', '۔', '؛', '٪', '\\\\.\\\\.+', '…', \"\\\\'\", '\"', '”', '“', '`', '‘', '´', '’', '‚', ',', '„', '»', '«', '「', '」', '『', '』', '（', '）', '〔', '〕', '【', '】', '《', '》', '〈', '〉', '\\\\$', '£', '€', '¥', '฿', 'US\\\\$', 'C\\\\$', 'A\\\\$', '₽', '﷼', '₴', '[\\\\u00A6\\\\u00A9\\\\u00AE\\\\u00B0\\\\u0482\\\\u058D\\\\u058E\\\\u060E\\\\u060F\\\\u06DE\\\\u06E9\\\\u06FD\\\\u06FE\\\\u07F6\\\\u09FA\\\\u0B70\\\\u0BF3-\\\\u0BF8\\\\u0BFA\\\\u0C7F\\\\u0D4F\\\\u0D79\\\\u0F01-\\\\u0F03\\\\u0F13\\\\u0F15-\\\\u0F17\\\\u0F1A-\\\\u0F1F\\\\u0F34\\\\u0F36\\\\u0F38\\\\u0FBE-\\\\u0FC5\\\\u0FC7-\\\\u0FCC\\\\u0FCE\\\\u0FCF\\\\u0FD5-\\\\u0FD8\\\\u109E\\\\u109F\\\\u1390-\\\\u1399\\\\u1940\\\\u19DE-\\\\u19FF\\\\u1B61-\\\\u1B6A\\\\u1B74-\\\\u1B7C\\\\u2100\\\\u2101\\\\u2103-\\\\u2106\\\\u2108\\\\u2109\\\\u2114\\\\u2116\\\\u2117\\\\u211E-\\\\u2123\\\\u2125\\\\u2127\\\\u2129\\\\u212E\\\\u213A\\\\u213B\\\\u214A\\\\u214C\\\\u214D\\\\u214F\\\\u218A\\\\u218B\\\\u2195-\\\\u2199\\\\u219C-\\\\u219F\\\\u21A1\\\\u21A2\\\\u21A4\\\\u21A5\\\\u21A7-\\\\u21AD\\\\u21AF-\\\\u21CD\\\\u21D0\\\\u21D1\\\\u21D3\\\\u21D5-\\\\u21F3\\\\u2300-\\\\u2307\\\\u230C-\\\\u231F\\\\u2322-\\\\u2328\\\\u232B-\\\\u237B\\\\u237D-\\\\u239A\\\\u23B4-\\\\u23DB\\\\u23E2-\\\\u2426\\\\u2440-\\\\u244A\\\\u249C-\\\\u24E9\\\\u2500-\\\\u25B6\\\\u25B8-\\\\u25C0\\\\u25C2-\\\\u25F7\\\\u2600-\\\\u266E\\\\u2670-\\\\u2767\\\\u2794-\\\\u27BF\\\\u2800-\\\\u28FF\\\\u2B00-\\\\u2B2F\\\\u2B45\\\\u2B46\\\\u2B4D-\\\\u2B73\\\\u2B76-\\\\u2B95\\\\u2B98-\\\\u2BC8\\\\u2BCA-\\\\u2BFE\\\\u2CE5-\\\\u2CEA\\\\u2E80-\\\\u2E99\\\\u2E9B-\\\\u2EF3\\\\u2F00-\\\\u2FD5\\\\u2FF0-\\\\u2FFB\\\\u3004\\\\u3012\\\\u3013\\\\u3020\\\\u3036\\\\u3037\\\\u303E\\\\u303F\\\\u3190\\\\u3191\\\\u3196-\\\\u319F\\\\u31C0-\\\\u31E3\\\\u3200-\\\\u321E\\\\u322A-\\\\u3247\\\\u3250\\\\u3260-\\\\u327F\\\\u328A-\\\\u32B0\\\\u32C0-\\\\u32FE\\\\u3300-\\\\u33FF\\\\u4DC0-\\\\u4DFF\\\\uA490-\\\\uA4C6\\\\uA828-\\\\uA82B\\\\uA836\\\\uA837\\\\uA839\\\\uAA77-\\\\uAA79\\\\uFDFD\\\\uFFE4\\\\uFFE8\\\\uFFED\\\\uFFEE\\\\uFFFC\\\\uFFFD\\\\U00010137-\\\\U0001013F\\\\U00010179-\\\\U00010189\\\\U0001018C-\\\\U0001018E\\\\U00010190-\\\\U0001019B\\\\U000101A0\\\\U000101D0-\\\\U000101FC\\\\U00010877\\\\U00010878\\\\U00010AC8\\\\U0001173F\\\\U00016B3C-\\\\U00016B3F\\\\U00016B45\\\\U0001BC9C\\\\U0001D000-\\\\U0001D0F5\\\\U0001D100-\\\\U0001D126\\\\U0001D129-\\\\U0001D164\\\\U0001D16A-\\\\U0001D16C\\\\U0001D183\\\\U0001D184\\\\U0001D18C-\\\\U0001D1A9\\\\U0001D1AE-\\\\U0001D1E8\\\\U0001D200-\\\\U0001D241\\\\U0001D245\\\\U0001D300-\\\\U0001D356\\\\U0001D800-\\\\U0001D9FF\\\\U0001DA37-\\\\U0001DA3A\\\\U0001DA6D-\\\\U0001DA74\\\\U0001DA76-\\\\U0001DA83\\\\U0001DA85\\\\U0001DA86\\\\U0001ECAC\\\\U0001F000-\\\\U0001F02B\\\\U0001F030-\\\\U0001F093\\\\U0001F0A0-\\\\U0001F0AE\\\\U0001F0B1-\\\\U0001F0BF\\\\U0001F0C1-\\\\U0001F0CF\\\\U0001F0D1-\\\\U0001F0F5\\\\U0001F110-\\\\U0001F16B\\\\U0001F170-\\\\U0001F1AC\\\\U0001F1E6-\\\\U0001F202\\\\U0001F210-\\\\U0001F23B\\\\U0001F240-\\\\U0001F248\\\\U0001F250\\\\U0001F251\\\\U0001F260-\\\\U0001F265\\\\U0001F300-\\\\U0001F3FA\\\\U0001F400-\\\\U0001F6D4\\\\U0001F6E0-\\\\U0001F6EC\\\\U0001F6F0-\\\\U0001F6F9\\\\U0001F700-\\\\U0001F773\\\\U0001F780-\\\\U0001F7D8\\\\U0001F800-\\\\U0001F80B\\\\U0001F810-\\\\U0001F847\\\\U0001F850-\\\\U0001F859\\\\U0001F860-\\\\U0001F887\\\\U0001F890-\\\\U0001F8AD\\\\U0001F900-\\\\U0001F90B\\\\U0001F910-\\\\U0001F93E\\\\U0001F940-\\\\U0001F970\\\\U0001F973-\\\\U0001F976\\\\U0001F97A\\\\U0001F97C-\\\\U0001F9A2\\\\U0001F9B0-\\\\U0001F9B9\\\\U0001F9C0-\\\\U0001F9C2\\\\U0001F9D0-\\\\U0001F9FF\\\\U0001FA60-\\\\U0001FA6D]')\n",
            "____________________________________________________\n",
            "re.compile('^\\\\n|^§|^%|^=|^—|^–|^\\\\+(?![0-9])|^…|^……|^,|^:|^;|^\\\\!|^\\\\?|^¿|^؟|^¡|^\\\\(|^\\\\)|^\\\\[|^\\\\]|^\\\\{|^\\\\}|^<|^>|^_|^#|^\\\\*|^&|^。|^？|^！|^，|^、|^；|^：|^～|^·|^।|^،|^۔|^؛|^٪|^\\\\.\\\\.+|^…|^\\\\\\'|^\"|^”|^“|^`|^‘|^´|^’)\n",
            "____________________________________________________\n",
            "<built-in method search of re.Pattern object at 0x55623bfe8000>\n",
            "____________________________________________________\n"
          ],
          "name": "stdout"
        }
      ]
    },
    {
      "cell_type": "code",
      "metadata": {
        "id": "rJEpWeNg4iDX"
      },
      "source": [
        "entity_dict = {\n",
        "    'Name': 'NAME', \n",
        "    'College Name': 'CLG',\n",
        "    'Degree': 'DEG',\n",
        "    'Graduation Year': 'GRADYEAR',\n",
        "    'Years of Experience': 'YOE',\n",
        "    'Companies worked at': 'COMPANY',\n",
        "    'Designation': 'DESIG',\n",
        "    'Skills': 'SKILLS',\n",
        "    'Location': 'LOC',\n",
        "    'Email Address': 'EMAIL'\n",
        "}\n"
      ],
      "execution_count": 4,
      "outputs": []
    },
    {
      "cell_type": "code",
      "metadata": {
        "colab": {
          "base_uri": "https://localhost:8080/",
          "height": 206
        },
        "id": "NVUnGBj55JOG",
        "outputId": "2fd58f19-ff9f-48f7-d4dc-dd3aa5bd1888"
      },
      "source": [
        "df = pd.read_json('/content/drive/MyDrive/ResumeParser/Entity Recognition in Resumes.json', lines=True)\n",
        "df.head()"
      ],
      "execution_count": 5,
      "outputs": [
        {
          "output_type": "execute_result",
          "data": {
            "text/html": [
              "<div>\n",
              "<style scoped>\n",
              "    .dataframe tbody tr th:only-of-type {\n",
              "        vertical-align: middle;\n",
              "    }\n",
              "\n",
              "    .dataframe tbody tr th {\n",
              "        vertical-align: top;\n",
              "    }\n",
              "\n",
              "    .dataframe thead th {\n",
              "        text-align: right;\n",
              "    }\n",
              "</style>\n",
              "<table border=\"1\" class=\"dataframe\">\n",
              "  <thead>\n",
              "    <tr style=\"text-align: right;\">\n",
              "      <th></th>\n",
              "      <th>content</th>\n",
              "      <th>annotation</th>\n",
              "      <th>extras</th>\n",
              "    </tr>\n",
              "  </thead>\n",
              "  <tbody>\n",
              "    <tr>\n",
              "      <th>0</th>\n",
              "      <td>Abhishek Jha\\nApplication Development Associat...</td>\n",
              "      <td>[{'label': ['Skills'], 'points': [{'start': 12...</td>\n",
              "      <td>NaN</td>\n",
              "    </tr>\n",
              "    <tr>\n",
              "      <th>1</th>\n",
              "      <td>Afreen Jamadar\\nActive member of IIIT Committe...</td>\n",
              "      <td>[{'label': ['Email Address'], 'points': [{'sta...</td>\n",
              "      <td>NaN</td>\n",
              "    </tr>\n",
              "    <tr>\n",
              "      <th>2</th>\n",
              "      <td>Akhil Yadav Polemaina\\nHyderabad, Telangana - ...</td>\n",
              "      <td>[{'label': ['Skills'], 'points': [{'start': 37...</td>\n",
              "      <td>NaN</td>\n",
              "    </tr>\n",
              "    <tr>\n",
              "      <th>3</th>\n",
              "      <td>Alok Khandai\\nOperational Analyst (SQL DBA) En...</td>\n",
              "      <td>[{'label': ['Skills'], 'points': [{'start': 80...</td>\n",
              "      <td>NaN</td>\n",
              "    </tr>\n",
              "    <tr>\n",
              "      <th>4</th>\n",
              "      <td>Ananya Chavan\\nlecturer - oracle tutorials\\n\\n...</td>\n",
              "      <td>[{'label': ['Degree'], 'points': [{'start': 20...</td>\n",
              "      <td>NaN</td>\n",
              "    </tr>\n",
              "  </tbody>\n",
              "</table>\n",
              "</div>"
            ],
            "text/plain": [
              "                                             content  ... extras\n",
              "0  Abhishek Jha\\nApplication Development Associat...  ...    NaN\n",
              "1  Afreen Jamadar\\nActive member of IIIT Committe...  ...    NaN\n",
              "2  Akhil Yadav Polemaina\\nHyderabad, Telangana - ...  ...    NaN\n",
              "3  Alok Khandai\\nOperational Analyst (SQL DBA) En...  ...    NaN\n",
              "4  Ananya Chavan\\nlecturer - oracle tutorials\\n\\n...  ...    NaN\n",
              "\n",
              "[5 rows x 3 columns]"
            ]
          },
          "metadata": {
            "tags": []
          },
          "execution_count": 5
        }
      ]
    },
    {
      "cell_type": "code",
      "metadata": {
        "colab": {
          "base_uri": "https://localhost:8080/",
          "height": 206
        },
        "id": "QCl6rDnNVTkv",
        "outputId": "f3e98187-7ea5-4298-a490-1245a816e232"
      },
      "source": [
        "df = df.drop(['extras'], axis=1)\n",
        "df.head()\n",
        "#len(df)"
      ],
      "execution_count": 6,
      "outputs": [
        {
          "output_type": "execute_result",
          "data": {
            "text/html": [
              "<div>\n",
              "<style scoped>\n",
              "    .dataframe tbody tr th:only-of-type {\n",
              "        vertical-align: middle;\n",
              "    }\n",
              "\n",
              "    .dataframe tbody tr th {\n",
              "        vertical-align: top;\n",
              "    }\n",
              "\n",
              "    .dataframe thead th {\n",
              "        text-align: right;\n",
              "    }\n",
              "</style>\n",
              "<table border=\"1\" class=\"dataframe\">\n",
              "  <thead>\n",
              "    <tr style=\"text-align: right;\">\n",
              "      <th></th>\n",
              "      <th>content</th>\n",
              "      <th>annotation</th>\n",
              "    </tr>\n",
              "  </thead>\n",
              "  <tbody>\n",
              "    <tr>\n",
              "      <th>0</th>\n",
              "      <td>Abhishek Jha\\nApplication Development Associat...</td>\n",
              "      <td>[{'label': ['Skills'], 'points': [{'start': 12...</td>\n",
              "    </tr>\n",
              "    <tr>\n",
              "      <th>1</th>\n",
              "      <td>Afreen Jamadar\\nActive member of IIIT Committe...</td>\n",
              "      <td>[{'label': ['Email Address'], 'points': [{'sta...</td>\n",
              "    </tr>\n",
              "    <tr>\n",
              "      <th>2</th>\n",
              "      <td>Akhil Yadav Polemaina\\nHyderabad, Telangana - ...</td>\n",
              "      <td>[{'label': ['Skills'], 'points': [{'start': 37...</td>\n",
              "    </tr>\n",
              "    <tr>\n",
              "      <th>3</th>\n",
              "      <td>Alok Khandai\\nOperational Analyst (SQL DBA) En...</td>\n",
              "      <td>[{'label': ['Skills'], 'points': [{'start': 80...</td>\n",
              "    </tr>\n",
              "    <tr>\n",
              "      <th>4</th>\n",
              "      <td>Ananya Chavan\\nlecturer - oracle tutorials\\n\\n...</td>\n",
              "      <td>[{'label': ['Degree'], 'points': [{'start': 20...</td>\n",
              "    </tr>\n",
              "  </tbody>\n",
              "</table>\n",
              "</div>"
            ],
            "text/plain": [
              "                                             content                                         annotation\n",
              "0  Abhishek Jha\\nApplication Development Associat...  [{'label': ['Skills'], 'points': [{'start': 12...\n",
              "1  Afreen Jamadar\\nActive member of IIIT Committe...  [{'label': ['Email Address'], 'points': [{'sta...\n",
              "2  Akhil Yadav Polemaina\\nHyderabad, Telangana - ...  [{'label': ['Skills'], 'points': [{'start': 37...\n",
              "3  Alok Khandai\\nOperational Analyst (SQL DBA) En...  [{'label': ['Skills'], 'points': [{'start': 80...\n",
              "4  Ananya Chavan\\nlecturer - oracle tutorials\\n\\n...  [{'label': ['Degree'], 'points': [{'start': 20..."
            ]
          },
          "metadata": {
            "tags": []
          },
          "execution_count": 6
        }
      ]
    },
    {
      "cell_type": "code",
      "metadata": {
        "id": "wSPYzjF45knM"
      },
      "source": [
        "def mergeIntervals(intervals):\n",
        "    sorted_by_lower_bound = sorted(intervals, key=lambda tup: tup[0])\n",
        "    merged = []\n",
        "\n",
        "    for higher in sorted_by_lower_bound:\n",
        "        if not merged:\n",
        "            merged.append(higher)\n",
        "        else:\n",
        "            lower = merged[-1]\n",
        "            if higher[0] <= lower[1]:\n",
        "                if lower[2] is higher[2]:\n",
        "                    upper_bound = max(lower[1], higher[1])\n",
        "                    merged[-1] = (lower[0], upper_bound, lower[2])\n",
        "                else:\n",
        "                    if lower[1] > higher[1]:\n",
        "                        merged[-1] = lower\n",
        "                    else:\n",
        "                        merged[-1] = (lower[0], higher[1], higher[2])\n",
        "            else:\n",
        "                merged.append(higher)\n",
        "\n",
        "    return merged"
      ],
      "execution_count": 7,
      "outputs": []
    },
    {
      "cell_type": "code",
      "metadata": {
        "id": "-bzYwNP67Wd3"
      },
      "source": [
        "def get_entities(df):\n",
        "    entities = []\n",
        "    for i in range(len(df)):\n",
        "        entity = []\n",
        "        for annot in df['annotation'][i]:\n",
        "            try:\n",
        "                ent = entity_dict[annot['label'][0]]\n",
        "                start = annot['points'][0]['start']\n",
        "                end = annot['points'][0]['end'] + 1\n",
        "                entity.append((start, end, ent))\n",
        "            except:\n",
        "                pass\n",
        "        entity = mergeIntervals(entity)\n",
        "        entities.append(entity)\n",
        "    return entities"
      ],
      "execution_count": 8,
      "outputs": []
    },
    {
      "cell_type": "code",
      "metadata": {
        "colab": {
          "base_uri": "https://localhost:8080/"
        },
        "id": "_xdD5WfW7tR8",
        "outputId": "b2d3a4bd-5870-40db-fa17-b2b1d839cc8f"
      },
      "source": [
        "df['annotation'][0]"
      ],
      "execution_count": 9,
      "outputs": [
        {
          "output_type": "execute_result",
          "data": {
            "text/plain": [
              "[{'label': ['Skills'],\n",
              "  'points': [{'end': 1621,\n",
              "    'start': 1295,\n",
              "    'text': '\\n• Programming language: C, C++, Java\\n• Oracle PeopleSoft\\n• Internet Of Things\\n• Machine Learning\\n• Database Management System\\n• Computer Networks\\n• Operating System worked on: Linux, Windows, Mac\\n\\nNon - Technical Skills\\n\\n• Honest and Hard-Working\\n• Tolerant and Flexible to Different Situations\\n• Polite and Calm\\n• Team-Player'}]},\n",
              " {'label': ['Skills'],\n",
              "  'points': [{'end': 1153,\n",
              "    'start': 993,\n",
              "    'text': 'C (Less than 1 year), Database (Less than 1 year), Database Management (Less than 1 year),\\nDatabase Management System (Less than 1 year), Java (Less than 1 year)'}]},\n",
              " {'label': ['College Name'],\n",
              "  'points': [{'end': 956, 'start': 939, 'text': 'Kendriya Vidyalaya'}]},\n",
              " {'label': ['College Name'],\n",
              "  'points': [{'end': 904, 'start': 883, 'text': 'Woodbine modern school'}]},\n",
              " {'label': ['Graduation Year'],\n",
              "  'points': [{'end': 860, 'start': 856, 'text': '2017\\n'}]},\n",
              " {'label': ['College Name'],\n",
              "  'points': [{'end': 813,\n",
              "    'start': 771,\n",
              "    'text': 'B.v.b college of engineering and technology'}]},\n",
              " {'label': ['Designation'],\n",
              "  'points': [{'end': 769,\n",
              "    'start': 727,\n",
              "    'text': 'B.E in Information science and engineering\\n'}]},\n",
              " {'label': ['Companies worked at'],\n",
              "  'points': [{'end': 415, 'start': 407, 'text': 'Accenture'}]},\n",
              " {'label': ['Designation'],\n",
              "  'points': [{'end': 404,\n",
              "    'start': 372,\n",
              "    'text': 'Application Development Associate'}]},\n",
              " {'label': ['Email Address'],\n",
              "  'points': [{'end': 145,\n",
              "    'start': 95,\n",
              "    'text': 'Indeed: indeed.com/r/Abhishek-Jha/10e7a8cb732bc43a\\n'}]},\n",
              " {'label': ['Location'],\n",
              "  'points': [{'end': 68, 'start': 60, 'text': 'Bengaluru'}]},\n",
              " {'label': ['Companies worked at'],\n",
              "  'points': [{'end': 57, 'start': 49, 'text': 'Accenture'}]},\n",
              " {'label': ['Designation'],\n",
              "  'points': [{'end': 45,\n",
              "    'start': 13,\n",
              "    'text': 'Application Development Associate'}]},\n",
              " {'label': ['Name'],\n",
              "  'points': [{'end': 11, 'start': 0, 'text': 'Abhishek Jha'}]}]"
            ]
          },
          "metadata": {
            "tags": []
          },
          "execution_count": 9
        }
      ]
    },
    {
      "cell_type": "code",
      "metadata": {
        "colab": {
          "base_uri": "https://localhost:8080/",
          "height": 293
        },
        "id": "m6BEHJs0CPT5",
        "outputId": "0864f076-2527-49ec-d74e-3e724bf1225d"
      },
      "source": [
        "df['entities'] = get_entities(df)\n",
        "df.head()"
      ],
      "execution_count": 10,
      "outputs": [
        {
          "output_type": "execute_result",
          "data": {
            "text/html": [
              "<div>\n",
              "<style scoped>\n",
              "    .dataframe tbody tr th:only-of-type {\n",
              "        vertical-align: middle;\n",
              "    }\n",
              "\n",
              "    .dataframe tbody tr th {\n",
              "        vertical-align: top;\n",
              "    }\n",
              "\n",
              "    .dataframe thead th {\n",
              "        text-align: right;\n",
              "    }\n",
              "</style>\n",
              "<table border=\"1\" class=\"dataframe\">\n",
              "  <thead>\n",
              "    <tr style=\"text-align: right;\">\n",
              "      <th></th>\n",
              "      <th>content</th>\n",
              "      <th>annotation</th>\n",
              "      <th>entities</th>\n",
              "    </tr>\n",
              "  </thead>\n",
              "  <tbody>\n",
              "    <tr>\n",
              "      <th>0</th>\n",
              "      <td>Abhishek Jha\\nApplication Development Associat...</td>\n",
              "      <td>[{'label': ['Skills'], 'points': [{'start': 12...</td>\n",
              "      <td>[(0, 12, NAME), (13, 46, DESIG), (49, 58, COMP...</td>\n",
              "    </tr>\n",
              "    <tr>\n",
              "      <th>1</th>\n",
              "      <td>Afreen Jamadar\\nActive member of IIIT Committe...</td>\n",
              "      <td>[{'label': ['Email Address'], 'points': [{'sta...</td>\n",
              "      <td>[(0, 14, NAME), (62, 68, LOC), (104, 148, EMAI...</td>\n",
              "    </tr>\n",
              "    <tr>\n",
              "      <th>2</th>\n",
              "      <td>Akhil Yadav Polemaina\\nHyderabad, Telangana - ...</td>\n",
              "      <td>[{'label': ['Skills'], 'points': [{'start': 37...</td>\n",
              "      <td>[(0, 21, NAME), (22, 31, LOC), (65, 117, EMAIL...</td>\n",
              "    </tr>\n",
              "    <tr>\n",
              "      <th>3</th>\n",
              "      <td>Alok Khandai\\nOperational Analyst (SQL DBA) En...</td>\n",
              "      <td>[{'label': ['Skills'], 'points': [{'start': 80...</td>\n",
              "      <td>[(0, 12, NAME), (13, 51, DESIG), (54, 60, COMP...</td>\n",
              "    </tr>\n",
              "    <tr>\n",
              "      <th>4</th>\n",
              "      <td>Ananya Chavan\\nlecturer - oracle tutorials\\n\\n...</td>\n",
              "      <td>[{'label': ['Degree'], 'points': [{'start': 20...</td>\n",
              "      <td>[(0, 13, NAME), (14, 22, DESIG), (24, 41, COMP...</td>\n",
              "    </tr>\n",
              "  </tbody>\n",
              "</table>\n",
              "</div>"
            ],
            "text/plain": [
              "                                             content  ...                                           entities\n",
              "0  Abhishek Jha\\nApplication Development Associat...  ...  [(0, 12, NAME), (13, 46, DESIG), (49, 58, COMP...\n",
              "1  Afreen Jamadar\\nActive member of IIIT Committe...  ...  [(0, 14, NAME), (62, 68, LOC), (104, 148, EMAI...\n",
              "2  Akhil Yadav Polemaina\\nHyderabad, Telangana - ...  ...  [(0, 21, NAME), (22, 31, LOC), (65, 117, EMAIL...\n",
              "3  Alok Khandai\\nOperational Analyst (SQL DBA) En...  ...  [(0, 12, NAME), (13, 51, DESIG), (54, 60, COMP...\n",
              "4  Ananya Chavan\\nlecturer - oracle tutorials\\n\\n...  ...  [(0, 13, NAME), (14, 22, DESIG), (24, 41, COMP...\n",
              "\n",
              "[5 rows x 3 columns]"
            ]
          },
          "metadata": {
            "tags": []
          },
          "execution_count": 10
        }
      ]
    },
    {
      "cell_type": "code",
      "metadata": {
        "id": "n17ZpC4uRb03"
      },
      "source": [
        "def get_train_data(df):\n",
        "    tags = []\n",
        "    sentences = []\n",
        "\n",
        "    for i in range(len(df)):\n",
        "        text = df['content'][i]\n",
        "        entities = df['entities'][i]\n",
        "    \n",
        "        doc = nlp(text)\n",
        "    \n",
        "        tag = biluo_tags_from_offsets(doc, entities)\n",
        "        tmp = pd.DataFrame([list(doc), tag]).T\n",
        "        loc = []\n",
        "        for i in range(len(tmp)):\n",
        "            if tmp[0][i].text is '.' and tmp[1][i] is 'O':\n",
        "                loc.append(i)\n",
        "        loc.append(len(doc))\n",
        "    \n",
        "        last = 0\n",
        "        data = []\n",
        "        for pos in loc:\n",
        "            data.append([list(doc)[last:pos], tag[last:pos]])\n",
        "            last = pos\n",
        "    \n",
        "        for d in data:\n",
        "            tag = ['O' if t is '-' else t for t in d[1]]\n",
        "            if len(set(tag)) > 1:\n",
        "                sentences.append(d[0])\n",
        "                tags.append(tag)\n",
        "    \n",
        "    return sentences, tags\n"
      ],
      "execution_count": 11,
      "outputs": []
    },
    {
      "cell_type": "code",
      "metadata": {
        "id": "VdaQRf0NU34v"
      },
      "source": [
        "sentences, tags = get_train_data(df)"
      ],
      "execution_count": 12,
      "outputs": []
    },
    {
      "cell_type": "code",
      "metadata": {
        "id": "3y1MqwmgVKOE"
      },
      "source": [
        "for i in range(0,len(sentences)):\n",
        "  print(\"FF\",sentences[i],\"XXX\",tags[i])"
      ],
      "execution_count": null,
      "outputs": []
    },
    {
      "cell_type": "code",
      "metadata": {
        "colab": {
          "base_uri": "https://localhost:8080/"
        },
        "id": "kkOc0UIeV2F5",
        "outputId": "e79d948a-559b-43cd-c327-9bec807d13ce"
      },
      "source": [
        "tag_vals = set(['X', '[CLS]', '[SEP]'])\n",
        "for i in range(len(tags)):\n",
        "    tag_vals = tag_vals.union(tags[i])\n",
        "tag_vals"
      ],
      "execution_count": 13,
      "outputs": [
        {
          "output_type": "execute_result",
          "data": {
            "text/plain": [
              "{'B-CLG',\n",
              " 'B-COMPANY',\n",
              " 'B-DEG',\n",
              " 'B-DESIG',\n",
              " 'B-EMAIL',\n",
              " 'B-GRADYEAR',\n",
              " 'B-LOC',\n",
              " 'B-NAME',\n",
              " 'B-SKILLS',\n",
              " 'B-YOE',\n",
              " 'I-CLG',\n",
              " 'I-COMPANY',\n",
              " 'I-DEG',\n",
              " 'I-DESIG',\n",
              " 'I-EMAIL',\n",
              " 'I-GRADYEAR',\n",
              " 'I-LOC',\n",
              " 'I-NAME',\n",
              " 'I-SKILLS',\n",
              " 'I-YOE',\n",
              " 'L-CLG',\n",
              " 'L-COMPANY',\n",
              " 'L-DEG',\n",
              " 'L-DESIG',\n",
              " 'L-EMAIL',\n",
              " 'L-GRADYEAR',\n",
              " 'L-LOC',\n",
              " 'L-NAME',\n",
              " 'L-SKILLS',\n",
              " 'L-YOE',\n",
              " 'O',\n",
              " 'U-CLG',\n",
              " 'U-COMPANY',\n",
              " 'U-DEG',\n",
              " 'U-DESIG',\n",
              " 'U-EMAIL',\n",
              " 'U-GRADYEAR',\n",
              " 'U-LOC',\n",
              " 'U-SKILLS',\n",
              " 'U-YOE',\n",
              " 'X',\n",
              " '[CLS]',\n",
              " '[SEP]'}"
            ]
          },
          "metadata": {
            "tags": []
          },
          "execution_count": 13
        }
      ]
    },
    {
      "cell_type": "code",
      "metadata": {
        "id": "tTa9EPiRXOEd"
      },
      "source": [
        "tag2idx = {t: i for i, t in enumerate(tag_vals)}\n",
        "idx2tag = {tag2idx[key] : key for key in tag2idx.keys()}"
      ],
      "execution_count": 14,
      "outputs": []
    },
    {
      "cell_type": "code",
      "metadata": {
        "id": "MwIW7morXf23"
      },
      "source": [
        "from tqdm import trange\n",
        "import torch\n",
        "import torch.nn.functional as F\n",
        "from torch.optim import Adam\n",
        "from torch.utils.data import TensorDataset, DataLoader, RandomSampler, SequentialSampler\n",
        "from keras.preprocessing.sequence import pad_sequences\n",
        "from sklearn.model_selection import train_test_split\n",
        "from pytorch_pretrained_bert import BertTokenizer, BertConfig\n",
        "from pytorch_pretrained_bert import BertForTokenClassification, BertAdam\n"
      ],
      "execution_count": 16,
      "outputs": []
    },
    {
      "cell_type": "code",
      "metadata": {
        "colab": {
          "base_uri": "https://localhost:8080/"
        },
        "id": "f78fIyzCSPut",
        "outputId": "67d218b1-bf22-420e-b341-fa693e6c8a95"
      },
      "source": [
        "!pip install pytorch-pretrained-bert"
      ],
      "execution_count": 15,
      "outputs": [
        {
          "output_type": "stream",
          "text": [
            "Collecting pytorch-pretrained-bert\n",
            "\u001b[?25l  Downloading https://files.pythonhosted.org/packages/d7/e0/c08d5553b89973d9a240605b9c12404bcf8227590de62bae27acbcfe076b/pytorch_pretrained_bert-0.6.2-py3-none-any.whl (123kB)\n",
            "\r\u001b[K     |██▋                             | 10kB 20.0MB/s eta 0:00:01\r\u001b[K     |█████▎                          | 20kB 26.6MB/s eta 0:00:01\r\u001b[K     |████████                        | 30kB 30.8MB/s eta 0:00:01\r\u001b[K     |██████████▋                     | 40kB 28.8MB/s eta 0:00:01\r\u001b[K     |█████████████▎                  | 51kB 26.2MB/s eta 0:00:01\r\u001b[K     |███████████████▉                | 61kB 22.4MB/s eta 0:00:01\r\u001b[K     |██████████████████▌             | 71kB 23.7MB/s eta 0:00:01\r\u001b[K     |█████████████████████▏          | 81kB 21.4MB/s eta 0:00:01\r\u001b[K     |███████████████████████▉        | 92kB 22.7MB/s eta 0:00:01\r\u001b[K     |██████████████████████████▌     | 102kB 22.1MB/s eta 0:00:01\r\u001b[K     |█████████████████████████████▏  | 112kB 22.1MB/s eta 0:00:01\r\u001b[K     |███████████████████████████████▊| 122kB 22.1MB/s eta 0:00:01\r\u001b[K     |████████████████████████████████| 133kB 22.1MB/s \n",
            "\u001b[?25hRequirement already satisfied: requests in /usr/local/lib/python3.7/dist-packages (from pytorch-pretrained-bert) (2.23.0)\n",
            "Requirement already satisfied: tqdm in /usr/local/lib/python3.7/dist-packages (from pytorch-pretrained-bert) (4.41.1)\n",
            "Requirement already satisfied: numpy in /usr/local/lib/python3.7/dist-packages (from pytorch-pretrained-bert) (1.19.5)\n",
            "Requirement already satisfied: regex in /usr/local/lib/python3.7/dist-packages (from pytorch-pretrained-bert) (2019.12.20)\n",
            "Collecting boto3\n",
            "\u001b[?25l  Downloading https://files.pythonhosted.org/packages/af/00/4c6c83799fe8f563f31e921050ee306051b5935469499a696a14ebfb0e02/boto3-1.17.73-py2.py3-none-any.whl (131kB)\n",
            "\u001b[K     |████████████████████████████████| 133kB 31.9MB/s \n",
            "\u001b[?25hRequirement already satisfied: torch>=0.4.1 in /usr/local/lib/python3.7/dist-packages (from pytorch-pretrained-bert) (1.8.1+cu101)\n",
            "Requirement already satisfied: certifi>=2017.4.17 in /usr/local/lib/python3.7/dist-packages (from requests->pytorch-pretrained-bert) (2020.12.5)\n",
            "Requirement already satisfied: idna<3,>=2.5 in /usr/local/lib/python3.7/dist-packages (from requests->pytorch-pretrained-bert) (2.10)\n",
            "Requirement already satisfied: chardet<4,>=3.0.2 in /usr/local/lib/python3.7/dist-packages (from requests->pytorch-pretrained-bert) (3.0.4)\n",
            "Requirement already satisfied: urllib3!=1.25.0,!=1.25.1,<1.26,>=1.21.1 in /usr/local/lib/python3.7/dist-packages (from requests->pytorch-pretrained-bert) (1.24.3)\n",
            "Collecting botocore<1.21.0,>=1.20.73\n",
            "\u001b[?25l  Downloading https://files.pythonhosted.org/packages/0b/0b/3af8d5c26c2e2c305a08db0ab564081c0dc3b85b41d0b795055200d4215e/botocore-1.20.73-py2.py3-none-any.whl (7.5MB)\n",
            "\u001b[K     |████████████████████████████████| 7.5MB 45.2MB/s \n",
            "\u001b[?25hCollecting jmespath<1.0.0,>=0.7.1\n",
            "  Downloading https://files.pythonhosted.org/packages/07/cb/5f001272b6faeb23c1c9e0acc04d48eaaf5c862c17709d20e3469c6e0139/jmespath-0.10.0-py2.py3-none-any.whl\n",
            "Collecting s3transfer<0.5.0,>=0.4.0\n",
            "\u001b[?25l  Downloading https://files.pythonhosted.org/packages/63/d0/693477c688348654ddc21dcdce0817653a294aa43f41771084c25e7ff9c7/s3transfer-0.4.2-py2.py3-none-any.whl (79kB)\n",
            "\u001b[K     |████████████████████████████████| 81kB 12.4MB/s \n",
            "\u001b[?25hRequirement already satisfied: typing-extensions in /usr/local/lib/python3.7/dist-packages (from torch>=0.4.1->pytorch-pretrained-bert) (3.7.4.3)\n",
            "Requirement already satisfied: python-dateutil<3.0.0,>=2.1 in /usr/local/lib/python3.7/dist-packages (from botocore<1.21.0,>=1.20.73->boto3->pytorch-pretrained-bert) (2.8.1)\n",
            "Requirement already satisfied: six>=1.5 in /usr/local/lib/python3.7/dist-packages (from python-dateutil<3.0.0,>=2.1->botocore<1.21.0,>=1.20.73->boto3->pytorch-pretrained-bert) (1.15.0)\n",
            "\u001b[31mERROR: botocore 1.20.73 has requirement urllib3<1.27,>=1.25.4, but you'll have urllib3 1.24.3 which is incompatible.\u001b[0m\n",
            "Installing collected packages: jmespath, botocore, s3transfer, boto3, pytorch-pretrained-bert\n",
            "Successfully installed boto3-1.17.73 botocore-1.20.73 jmespath-0.10.0 pytorch-pretrained-bert-0.6.2 s3transfer-0.4.2\n"
          ],
          "name": "stdout"
        }
      ]
    },
    {
      "cell_type": "code",
      "metadata": {
        "id": "fAvgj1PlSDtK"
      },
      "source": [
        "device = torch.device(\"cuda\" if torch.cuda.is_available() else \"cpu\")\n",
        "n_gpu = torch.cuda.device_count()"
      ],
      "execution_count": 17,
      "outputs": []
    },
    {
      "cell_type": "code",
      "metadata": {
        "colab": {
          "base_uri": "https://localhost:8080/"
        },
        "id": "iBUbkv6mWw0T",
        "outputId": "2d094f66-1f19-4ef5-e828-10656678fc12"
      },
      "source": [
        "tokenizer = BertTokenizer.from_pretrained('bert-base-cased', do_lower_case=False)"
      ],
      "execution_count": 18,
      "outputs": [
        {
          "output_type": "stream",
          "text": [
            "100%|██████████| 213450/213450 [00:00<00:00, 16531699.54B/s]\n"
          ],
          "name": "stderr"
        }
      ]
    },
    {
      "cell_type": "code",
      "metadata": {
        "id": "D6Ygf0esW2u0"
      },
      "source": [
        "def get_tokenized_train_data(sentences, tags):\n",
        "\n",
        "    tokenized_texts = []\n",
        "    word_piece_labels = []\n",
        "\n",
        "    for word_list, label in zip(sentences, tags):\n",
        "    \n",
        "        # Add [CLS] at the front\n",
        "        temp_lable = ['[CLS]']\n",
        "        temp_token = ['[CLS]']\n",
        "    \n",
        "        for word, lab in zip(word_list, label):\n",
        "            token_list = tokenizer.tokenize(word.text)\n",
        "            for m, token in enumerate(token_list):\n",
        "                temp_token.append(token)\n",
        "                if m == 0:\n",
        "                    temp_lable.append(lab)\n",
        "                else:\n",
        "                    temp_lable.append('X')  \n",
        "                \n",
        "        # Add [SEP] at the end\n",
        "        temp_lable.append('[SEP]')\n",
        "        temp_token.append('[SEP]')\n",
        "    \n",
        "        tokenized_texts.append(temp_token)\n",
        "        word_piece_labels.append(temp_lable)\n",
        "    \n",
        "    return tokenized_texts, word_piece_labels"
      ],
      "execution_count": 19,
      "outputs": []
    },
    {
      "cell_type": "code",
      "metadata": {
        "id": "mvjkUMqrW-ZM"
      },
      "source": [
        "tokenized_texts, word_piece_labels = get_tokenized_train_data(sentences, tags)"
      ],
      "execution_count": 20,
      "outputs": []
    },
    {
      "cell_type": "code",
      "metadata": {
        "colab": {
          "base_uri": "https://localhost:8080/"
        },
        "id": "MycrtQ04XCJY",
        "outputId": "51870f7c-6e22-4b61-fb6e-85dc47be2d17"
      },
      "source": [
        "print(tokenized_texts[0])\n",
        "print(word_piece_labels[0])"
      ],
      "execution_count": 21,
      "outputs": [
        {
          "output_type": "stream",
          "text": [
            "['[CLS]', 'A', '##b', '##his', '##he', '##k', 'J', '##ha', 'Application', 'Development', 'Associate', '-', 'A', '##cc', '##ent', '##ure', 'Bengal', '##uru', ',', 'Karnataka', '-', 'Em', '##ail', 'me', 'on', 'Indeed', ':', 'indeed', '.', 'com', '/', 'r', '/', 'A', '##b', '##his', '##he', '##k', '-', 'J', '##ha', '/', '10', '##e', '##7', '##a', '##8', '##c', '##b', '##7', '##32', '##b', '##c', '##43', '##a', '•', 'To', 'work', 'for', 'an', 'organization', 'which', 'provides', 'me', 'the', 'opportunity', 'to', 'improve', 'my', 'skills', 'and', 'knowledge', 'for', 'my', 'individual', 'and', 'company', \"'\", 's', 'growth', 'in', 'best', 'possible', 'ways', '[SEP]']\n",
            "['[CLS]', 'B-NAME', 'X', 'X', 'X', 'X', 'L-NAME', 'X', 'B-DESIG', 'I-DESIG', 'L-DESIG', 'O', 'U-COMPANY', 'X', 'X', 'X', 'U-LOC', 'X', 'O', 'O', 'O', 'O', 'X', 'O', 'O', 'B-EMAIL', 'I-EMAIL', 'I-EMAIL', 'X', 'X', 'X', 'X', 'X', 'X', 'X', 'X', 'X', 'X', 'X', 'X', 'X', 'X', 'X', 'X', 'X', 'X', 'X', 'X', 'X', 'X', 'X', 'X', 'X', 'X', 'X', 'O', 'O', 'O', 'O', 'O', 'O', 'O', 'O', 'O', 'O', 'O', 'O', 'O', 'O', 'O', 'O', 'O', 'O', 'O', 'O', 'O', 'O', 'O', 'X', 'O', 'O', 'O', 'O', 'O', '[SEP]']\n"
          ],
          "name": "stdout"
        }
      ]
    },
    {
      "cell_type": "code",
      "metadata": {
        "colab": {
          "base_uri": "https://localhost:8080/"
        },
        "id": "p5ZxEuv3XLcH",
        "outputId": "033fad7a-caf2-41c6-d880-eecc400ae42c"
      },
      "source": [
        "MAX_LEN = 512\n",
        "bs = 4\n",
        "for txt in tokenized_texts:\n",
        "  if len(txt)>MAX_LEN:\n",
        "    print(len(txt))"
      ],
      "execution_count": 22,
      "outputs": [
        {
          "output_type": "stream",
          "text": [
            "679\n",
            "977\n",
            "567\n",
            "1054\n",
            "1231\n",
            "674\n",
            "543\n",
            "920\n",
            "1269\n",
            "756\n",
            "513\n",
            "642\n",
            "590\n",
            "599\n",
            "680\n"
          ],
          "name": "stdout"
        }
      ]
    },
    {
      "cell_type": "code",
      "metadata": {
        "colab": {
          "base_uri": "https://localhost:8080/"
        },
        "id": "uVJh-lUwXcwi",
        "outputId": "597fd9d6-dab8-41a6-b764-4f854786d403"
      },
      "source": [
        "input_ids = pad_sequences([tokenizer.convert_tokens_to_ids(txt) for txt in tokenized_texts],\n",
        "                          maxlen=MAX_LEN, dtype=\"long\", truncating=\"post\", padding=\"post\")\n",
        "print(len(input_ids[0]))\n",
        "print(input_ids[0])"
      ],
      "execution_count": 23,
      "outputs": [
        {
          "output_type": "stream",
          "text": [
            "Token indices sequence length is longer than the specified maximum  sequence length for this BERT model (679 > 512). Running this sequence through BERT will result in indexing errors\n",
            "Token indices sequence length is longer than the specified maximum  sequence length for this BERT model (977 > 512). Running this sequence through BERT will result in indexing errors\n",
            "Token indices sequence length is longer than the specified maximum  sequence length for this BERT model (567 > 512). Running this sequence through BERT will result in indexing errors\n",
            "Token indices sequence length is longer than the specified maximum  sequence length for this BERT model (1054 > 512). Running this sequence through BERT will result in indexing errors\n",
            "Token indices sequence length is longer than the specified maximum  sequence length for this BERT model (1231 > 512). Running this sequence through BERT will result in indexing errors\n",
            "Token indices sequence length is longer than the specified maximum  sequence length for this BERT model (674 > 512). Running this sequence through BERT will result in indexing errors\n",
            "Token indices sequence length is longer than the specified maximum  sequence length for this BERT model (543 > 512). Running this sequence through BERT will result in indexing errors\n",
            "Token indices sequence length is longer than the specified maximum  sequence length for this BERT model (920 > 512). Running this sequence through BERT will result in indexing errors\n",
            "Token indices sequence length is longer than the specified maximum  sequence length for this BERT model (1269 > 512). Running this sequence through BERT will result in indexing errors\n",
            "Token indices sequence length is longer than the specified maximum  sequence length for this BERT model (756 > 512). Running this sequence through BERT will result in indexing errors\n",
            "Token indices sequence length is longer than the specified maximum  sequence length for this BERT model (513 > 512). Running this sequence through BERT will result in indexing errors\n",
            "Token indices sequence length is longer than the specified maximum  sequence length for this BERT model (642 > 512). Running this sequence through BERT will result in indexing errors\n",
            "Token indices sequence length is longer than the specified maximum  sequence length for this BERT model (590 > 512). Running this sequence through BERT will result in indexing errors\n",
            "Token indices sequence length is longer than the specified maximum  sequence length for this BERT model (599 > 512). Running this sequence through BERT will result in indexing errors\n",
            "Token indices sequence length is longer than the specified maximum  sequence length for this BERT model (680 > 512). Running this sequence through BERT will result in indexing errors\n"
          ],
          "name": "stderr"
        },
        {
          "output_type": "stream",
          "text": [
            "512\n",
            "[  101   138  1830 27516  4638  1377   147  2328 22491  3273  9666   118\n",
            "   138 19515  3452  3313  7756 12328   117 12247   118 18653 11922  1143\n",
            "  1113 10364   131  5750   119  3254   120   187   120   138  1830 27516\n",
            "  4638  1377   118   147  2328   120  1275  1162  1559  1161  1604  1665\n",
            "  1830  1559 17101  1830  1665 25631  1161   794  1706  1250  1111  1126\n",
            "  2369  1134  2790  1143  1103  3767  1106  4607  1139  4196  1105  3044\n",
            "  1111  1139  2510  1105  1419   112   188  3213  1107  1436  1936  3242\n",
            "   102     0     0     0     0     0     0     0     0     0     0     0\n",
            "     0     0     0     0     0     0     0     0     0     0     0     0\n",
            "     0     0     0     0     0     0     0     0     0     0     0     0\n",
            "     0     0     0     0     0     0     0     0     0     0     0     0\n",
            "     0     0     0     0     0     0     0     0     0     0     0     0\n",
            "     0     0     0     0     0     0     0     0     0     0     0     0\n",
            "     0     0     0     0     0     0     0     0     0     0     0     0\n",
            "     0     0     0     0     0     0     0     0     0     0     0     0\n",
            "     0     0     0     0     0     0     0     0     0     0     0     0\n",
            "     0     0     0     0     0     0     0     0     0     0     0     0\n",
            "     0     0     0     0     0     0     0     0     0     0     0     0\n",
            "     0     0     0     0     0     0     0     0     0     0     0     0\n",
            "     0     0     0     0     0     0     0     0     0     0     0     0\n",
            "     0     0     0     0     0     0     0     0     0     0     0     0\n",
            "     0     0     0     0     0     0     0     0     0     0     0     0\n",
            "     0     0     0     0     0     0     0     0     0     0     0     0\n",
            "     0     0     0     0     0     0     0     0     0     0     0     0\n",
            "     0     0     0     0     0     0     0     0     0     0     0     0\n",
            "     0     0     0     0     0     0     0     0     0     0     0     0\n",
            "     0     0     0     0     0     0     0     0     0     0     0     0\n",
            "     0     0     0     0     0     0     0     0     0     0     0     0\n",
            "     0     0     0     0     0     0     0     0     0     0     0     0\n",
            "     0     0     0     0     0     0     0     0     0     0     0     0\n",
            "     0     0     0     0     0     0     0     0     0     0     0     0\n",
            "     0     0     0     0     0     0     0     0     0     0     0     0\n",
            "     0     0     0     0     0     0     0     0     0     0     0     0\n",
            "     0     0     0     0     0     0     0     0     0     0     0     0\n",
            "     0     0     0     0     0     0     0     0     0     0     0     0\n",
            "     0     0     0     0     0     0     0     0     0     0     0     0\n",
            "     0     0     0     0     0     0     0     0     0     0     0     0\n",
            "     0     0     0     0     0     0     0     0     0     0     0     0\n",
            "     0     0     0     0     0     0     0     0     0     0     0     0\n",
            "     0     0     0     0     0     0     0     0     0     0     0     0\n",
            "     0     0     0     0     0     0     0     0     0     0     0     0\n",
            "     0     0     0     0     0     0     0     0     0     0     0     0\n",
            "     0     0     0     0     0     0     0     0]\n"
          ],
          "name": "stdout"
        }
      ]
    },
    {
      "cell_type": "code",
      "metadata": {
        "colab": {
          "base_uri": "https://localhost:8080/"
        },
        "id": "aQRmnnp0XjrL",
        "outputId": "131976b0-8e10-45e7-dea6-ee483645462a"
      },
      "source": [
        "tags = pad_sequences([[tag2idx.get(l) for l in lab] for lab in word_piece_labels], maxlen=MAX_LEN, value=tag2idx[\"O\"], \n",
        "                     padding=\"post\", dtype=\"long\", truncating=\"post\")\n",
        "print(len(tags[0]))\n",
        "print(tags[0])"
      ],
      "execution_count": 24,
      "outputs": [
        {
          "output_type": "stream",
          "text": [
            "512\n",
            "[22  5 25 25 25 25 28 25 17 33  1 21 10 25 25 25 26 25 21 21 21 21 25 21\n",
            " 21 14 35 35 25 25 25 25 25 25 25 25 25 25 25 25 25 25 25 25 25 25 25 25\n",
            " 25 25 25 25 25 25 25 21 21 21 21 21 21 21 21 21 21 21 21 21 21 21 21 21\n",
            " 21 21 21 21 21 21 25 21 21 21 21 21 12 21 21 21 21 21 21 21 21 21 21 21\n",
            " 21 21 21 21 21 21 21 21 21 21 21 21 21 21 21 21 21 21 21 21 21 21 21 21\n",
            " 21 21 21 21 21 21 21 21 21 21 21 21 21 21 21 21 21 21 21 21 21 21 21 21\n",
            " 21 21 21 21 21 21 21 21 21 21 21 21 21 21 21 21 21 21 21 21 21 21 21 21\n",
            " 21 21 21 21 21 21 21 21 21 21 21 21 21 21 21 21 21 21 21 21 21 21 21 21\n",
            " 21 21 21 21 21 21 21 21 21 21 21 21 21 21 21 21 21 21 21 21 21 21 21 21\n",
            " 21 21 21 21 21 21 21 21 21 21 21 21 21 21 21 21 21 21 21 21 21 21 21 21\n",
            " 21 21 21 21 21 21 21 21 21 21 21 21 21 21 21 21 21 21 21 21 21 21 21 21\n",
            " 21 21 21 21 21 21 21 21 21 21 21 21 21 21 21 21 21 21 21 21 21 21 21 21\n",
            " 21 21 21 21 21 21 21 21 21 21 21 21 21 21 21 21 21 21 21 21 21 21 21 21\n",
            " 21 21 21 21 21 21 21 21 21 21 21 21 21 21 21 21 21 21 21 21 21 21 21 21\n",
            " 21 21 21 21 21 21 21 21 21 21 21 21 21 21 21 21 21 21 21 21 21 21 21 21\n",
            " 21 21 21 21 21 21 21 21 21 21 21 21 21 21 21 21 21 21 21 21 21 21 21 21\n",
            " 21 21 21 21 21 21 21 21 21 21 21 21 21 21 21 21 21 21 21 21 21 21 21 21\n",
            " 21 21 21 21 21 21 21 21 21 21 21 21 21 21 21 21 21 21 21 21 21 21 21 21\n",
            " 21 21 21 21 21 21 21 21 21 21 21 21 21 21 21 21 21 21 21 21 21 21 21 21\n",
            " 21 21 21 21 21 21 21 21 21 21 21 21 21 21 21 21 21 21 21 21 21 21 21 21\n",
            " 21 21 21 21 21 21 21 21 21 21 21 21 21 21 21 21 21 21 21 21 21 21 21 21\n",
            " 21 21 21 21 21 21 21 21]\n"
          ],
          "name": "stdout"
        }
      ]
    },
    {
      "cell_type": "code",
      "metadata": {
        "colab": {
          "base_uri": "https://localhost:8080/"
        },
        "id": "LccX0lVXba86",
        "outputId": "0ff03a6c-880c-46d5-8a5e-7047b1563192"
      },
      "source": [
        "attention_masks = [[float(i>0) for i in ii] for ii in input_ids]\n",
        "print(attention_masks[0])"
      ],
      "execution_count": 25,
      "outputs": [
        {
          "output_type": "stream",
          "text": [
            "[1.0, 1.0, 1.0, 1.0, 1.0, 1.0, 1.0, 1.0, 1.0, 1.0, 1.0, 1.0, 1.0, 1.0, 1.0, 1.0, 1.0, 1.0, 1.0, 1.0, 1.0, 1.0, 1.0, 1.0, 1.0, 1.0, 1.0, 1.0, 1.0, 1.0, 1.0, 1.0, 1.0, 1.0, 1.0, 1.0, 1.0, 1.0, 1.0, 1.0, 1.0, 1.0, 1.0, 1.0, 1.0, 1.0, 1.0, 1.0, 1.0, 1.0, 1.0, 1.0, 1.0, 1.0, 1.0, 1.0, 1.0, 1.0, 1.0, 1.0, 1.0, 1.0, 1.0, 1.0, 1.0, 1.0, 1.0, 1.0, 1.0, 1.0, 1.0, 1.0, 1.0, 1.0, 1.0, 1.0, 1.0, 1.0, 1.0, 1.0, 1.0, 1.0, 1.0, 1.0, 1.0, 0.0, 0.0, 0.0, 0.0, 0.0, 0.0, 0.0, 0.0, 0.0, 0.0, 0.0, 0.0, 0.0, 0.0, 0.0, 0.0, 0.0, 0.0, 0.0, 0.0, 0.0, 0.0, 0.0, 0.0, 0.0, 0.0, 0.0, 0.0, 0.0, 0.0, 0.0, 0.0, 0.0, 0.0, 0.0, 0.0, 0.0, 0.0, 0.0, 0.0, 0.0, 0.0, 0.0, 0.0, 0.0, 0.0, 0.0, 0.0, 0.0, 0.0, 0.0, 0.0, 0.0, 0.0, 0.0, 0.0, 0.0, 0.0, 0.0, 0.0, 0.0, 0.0, 0.0, 0.0, 0.0, 0.0, 0.0, 0.0, 0.0, 0.0, 0.0, 0.0, 0.0, 0.0, 0.0, 0.0, 0.0, 0.0, 0.0, 0.0, 0.0, 0.0, 0.0, 0.0, 0.0, 0.0, 0.0, 0.0, 0.0, 0.0, 0.0, 0.0, 0.0, 0.0, 0.0, 0.0, 0.0, 0.0, 0.0, 0.0, 0.0, 0.0, 0.0, 0.0, 0.0, 0.0, 0.0, 0.0, 0.0, 0.0, 0.0, 0.0, 0.0, 0.0, 0.0, 0.0, 0.0, 0.0, 0.0, 0.0, 0.0, 0.0, 0.0, 0.0, 0.0, 0.0, 0.0, 0.0, 0.0, 0.0, 0.0, 0.0, 0.0, 0.0, 0.0, 0.0, 0.0, 0.0, 0.0, 0.0, 0.0, 0.0, 0.0, 0.0, 0.0, 0.0, 0.0, 0.0, 0.0, 0.0, 0.0, 0.0, 0.0, 0.0, 0.0, 0.0, 0.0, 0.0, 0.0, 0.0, 0.0, 0.0, 0.0, 0.0, 0.0, 0.0, 0.0, 0.0, 0.0, 0.0, 0.0, 0.0, 0.0, 0.0, 0.0, 0.0, 0.0, 0.0, 0.0, 0.0, 0.0, 0.0, 0.0, 0.0, 0.0, 0.0, 0.0, 0.0, 0.0, 0.0, 0.0, 0.0, 0.0, 0.0, 0.0, 0.0, 0.0, 0.0, 0.0, 0.0, 0.0, 0.0, 0.0, 0.0, 0.0, 0.0, 0.0, 0.0, 0.0, 0.0, 0.0, 0.0, 0.0, 0.0, 0.0, 0.0, 0.0, 0.0, 0.0, 0.0, 0.0, 0.0, 0.0, 0.0, 0.0, 0.0, 0.0, 0.0, 0.0, 0.0, 0.0, 0.0, 0.0, 0.0, 0.0, 0.0, 0.0, 0.0, 0.0, 0.0, 0.0, 0.0, 0.0, 0.0, 0.0, 0.0, 0.0, 0.0, 0.0, 0.0, 0.0, 0.0, 0.0, 0.0, 0.0, 0.0, 0.0, 0.0, 0.0, 0.0, 0.0, 0.0, 0.0, 0.0, 0.0, 0.0, 0.0, 0.0, 0.0, 0.0, 0.0, 0.0, 0.0, 0.0, 0.0, 0.0, 0.0, 0.0, 0.0, 0.0, 0.0, 0.0, 0.0, 0.0, 0.0, 0.0, 0.0, 0.0, 0.0, 0.0, 0.0, 0.0, 0.0, 0.0, 0.0, 0.0, 0.0, 0.0, 0.0, 0.0, 0.0, 0.0, 0.0, 0.0, 0.0, 0.0, 0.0, 0.0, 0.0, 0.0, 0.0, 0.0, 0.0, 0.0, 0.0, 0.0, 0.0, 0.0, 0.0, 0.0, 0.0, 0.0, 0.0, 0.0, 0.0, 0.0, 0.0, 0.0, 0.0, 0.0, 0.0, 0.0, 0.0, 0.0, 0.0, 0.0, 0.0, 0.0, 0.0, 0.0, 0.0, 0.0, 0.0, 0.0, 0.0, 0.0, 0.0, 0.0, 0.0, 0.0, 0.0, 0.0, 0.0, 0.0, 0.0, 0.0, 0.0, 0.0, 0.0, 0.0, 0.0, 0.0, 0.0, 0.0, 0.0, 0.0, 0.0, 0.0, 0.0, 0.0, 0.0, 0.0, 0.0, 0.0, 0.0, 0.0, 0.0, 0.0, 0.0, 0.0, 0.0, 0.0, 0.0, 0.0, 0.0, 0.0, 0.0, 0.0, 0.0, 0.0, 0.0, 0.0, 0.0, 0.0, 0.0, 0.0, 0.0, 0.0, 0.0, 0.0, 0.0, 0.0, 0.0, 0.0, 0.0, 0.0, 0.0, 0.0, 0.0, 0.0, 0.0, 0.0, 0.0, 0.0, 0.0, 0.0, 0.0, 0.0, 0.0, 0.0, 0.0, 0.0, 0.0, 0.0, 0.0, 0.0, 0.0]\n"
          ],
          "name": "stdout"
        }
      ]
    },
    {
      "cell_type": "code",
      "metadata": {
        "id": "UrAffzvGbi1-"
      },
      "source": [
        "tr_inputs, val_inputs, tr_tags, val_tags, tr_masks, val_masks = train_test_split(input_ids, tags, attention_masks, random_state=2020, \n",
        "                                                                                 test_size=0.3)"
      ],
      "execution_count": 26,
      "outputs": []
    },
    {
      "cell_type": "code",
      "metadata": {
        "id": "WKa3i4SSbok4"
      },
      "source": [
        "tr_inputs = torch.tensor(tr_inputs)\n",
        "val_inputs = torch.tensor(val_inputs)\n",
        "tr_tags = torch.tensor(tr_tags)\n",
        "val_tags = torch.tensor(val_tags)\n",
        "tr_masks = torch.tensor(tr_masks)\n",
        "val_masks = torch.tensor(val_masks)"
      ],
      "execution_count": 27,
      "outputs": []
    },
    {
      "cell_type": "code",
      "metadata": {
        "id": "akRyJyEcb1gN"
      },
      "source": [
        "train_data = TensorDataset(tr_inputs, tr_masks, tr_tags)\n",
        "train_sampler = RandomSampler(train_data)\n",
        "train_dataloader = DataLoader(train_data, sampler=train_sampler, batch_size=bs)\n",
        "\n",
        "valid_data = TensorDataset(val_inputs, val_masks, val_tags)\n",
        "valid_sampler = SequentialSampler(valid_data)\n",
        "valid_dataloader = DataLoader(valid_data, sampler=valid_sampler, batch_size=bs)"
      ],
      "execution_count": 28,
      "outputs": []
    },
    {
      "cell_type": "code",
      "metadata": {
        "colab": {
          "base_uri": "https://localhost:8080/"
        },
        "id": "G61Qbu9jcHA8",
        "outputId": "bb7e4dda-8983-4297-b501-1479242c0f97"
      },
      "source": [
        "model = BertForTokenClassification.from_pretrained(\"bert-base-cased\", num_labels=len(tag2idx))"
      ],
      "execution_count": 29,
      "outputs": [
        {
          "output_type": "stream",
          "text": [
            "100%|██████████| 404400730/404400730 [00:07<00:00, 52910354.00B/s]\n"
          ],
          "name": "stderr"
        }
      ]
    },
    {
      "cell_type": "code",
      "metadata": {
        "id": "RJ0c8I_gcMMl"
      },
      "source": [
        "model.cuda();"
      ],
      "execution_count": 30,
      "outputs": []
    },
    {
      "cell_type": "code",
      "metadata": {
        "id": "EuYbbhKUcUol"
      },
      "source": [
        "\n",
        "\n",
        "FULL_FINETUNING = True\n",
        "if FULL_FINETUNING:\n",
        "    param_optimizer = list(model.named_parameters())\n",
        "    no_decay = ['bias', 'gamma', 'beta']\n",
        "    optimizer_grouped_parameters = [\n",
        "        {'params': [p for n, p in param_optimizer if not any(nd in n for nd in no_decay)],\n",
        "         'weight_decay_rate': 0.01},\n",
        "        {'params': [p for n, p in param_optimizer if any(nd in n for nd in no_decay)],\n",
        "         'weight_decay_rate': 0.0}\n",
        "    ]\n",
        "else:\n",
        "    param_optimizer = list(model.classifier.named_parameters()) \n",
        "    optimizer_grouped_parameters = [{\"params\": [p for n, p in param_optimizer]}]\n",
        "optimizer = Adam(optimizer_grouped_parameters, lr=3e-5)\n",
        "\n"
      ],
      "execution_count": 31,
      "outputs": []
    },
    {
      "cell_type": "code",
      "metadata": {
        "colab": {
          "base_uri": "https://localhost:8080/"
        },
        "id": "-ajKM8g9cl7C",
        "outputId": "1124abe1-2e55-4711-d96d-e971e0fe334d"
      },
      "source": [
        "epochs = 15\n",
        "max_grad_norm = 1.0\n",
        "\n",
        "for _ in trange(epochs, desc=\"Epoch\"):\n",
        "    # TRAIN loop\n",
        "    model.train()\n",
        "    tr_loss = 0\n",
        "    nb_tr_examples, nb_tr_steps = 0, 0\n",
        "    for step, batch in enumerate(train_dataloader):\n",
        "        # add batch to gpu\n",
        "        batch = tuple(t.to(device) for t in batch)\n",
        "        b_input_ids, b_input_mask, b_labels = batch\n",
        "        # forward pass\n",
        "        loss = model(b_input_ids, token_type_ids=None,\n",
        "                     attention_mask=b_input_mask, labels=b_labels)\n",
        "        # backward pass\n",
        "        loss.backward()\n",
        "        # track train loss\n",
        "        tr_loss += loss.item()\n",
        "        nb_tr_examples += b_input_ids.size(0)\n",
        "        nb_tr_steps += 1\n",
        "        # gradient clipping\n",
        "        torch.nn.utils.clip_grad_norm_(parameters=model.parameters(), max_norm=max_grad_norm)\n",
        "        optimizer.step()\n",
        "        model.zero_grad()\n",
        "    # print train loss per epoch\n",
        "    print(\"Train loss: {}\".format(tr_loss/nb_tr_steps))\n"
      ],
      "execution_count": 32,
      "outputs": [
        {
          "output_type": "stream",
          "text": [
            "Epoch:   7%|▋         | 1/15 [01:01<14:23, 61.70s/it]"
          ],
          "name": "stderr"
        },
        {
          "output_type": "stream",
          "text": [
            "Train loss: 0.7999333184565941\n"
          ],
          "name": "stdout"
        },
        {
          "output_type": "stream",
          "text": [
            "\rEpoch:  13%|█▎        | 2/15 [02:05<13:28, 62.22s/it]"
          ],
          "name": "stderr"
        },
        {
          "output_type": "stream",
          "text": [
            "Train loss: 0.34813377440628346\n"
          ],
          "name": "stdout"
        },
        {
          "output_type": "stream",
          "text": [
            "\rEpoch:  20%|██        | 3/15 [03:09<12:35, 62.98s/it]"
          ],
          "name": "stderr"
        },
        {
          "output_type": "stream",
          "text": [
            "Train loss: 0.23635135881983452\n"
          ],
          "name": "stdout"
        },
        {
          "output_type": "stream",
          "text": [
            "\rEpoch:  27%|██▋       | 4/15 [04:15<11:42, 63.86s/it]"
          ],
          "name": "stderr"
        },
        {
          "output_type": "stream",
          "text": [
            "Train loss: 0.18826330768583466\n"
          ],
          "name": "stdout"
        },
        {
          "output_type": "stream",
          "text": [
            "\rEpoch:  33%|███▎      | 5/15 [05:22<10:46, 64.65s/it]"
          ],
          "name": "stderr"
        },
        {
          "output_type": "stream",
          "text": [
            "Train loss: 0.14604406560478855\n"
          ],
          "name": "stdout"
        },
        {
          "output_type": "stream",
          "text": [
            "\rEpoch:  40%|████      | 6/15 [06:28<09:46, 65.14s/it]"
          ],
          "name": "stderr"
        },
        {
          "output_type": "stream",
          "text": [
            "Train loss: 0.11432652084333618\n"
          ],
          "name": "stdout"
        },
        {
          "output_type": "stream",
          "text": [
            "\rEpoch:  47%|████▋     | 7/15 [07:34<08:44, 65.52s/it]"
          ],
          "name": "stderr"
        },
        {
          "output_type": "stream",
          "text": [
            "Train loss: 0.08113151468526926\n"
          ],
          "name": "stdout"
        },
        {
          "output_type": "stream",
          "text": [
            "\rEpoch:  53%|█████▎    | 8/15 [08:41<07:40, 65.76s/it]"
          ],
          "name": "stderr"
        },
        {
          "output_type": "stream",
          "text": [
            "Train loss: 0.06093330016142152\n"
          ],
          "name": "stdout"
        },
        {
          "output_type": "stream",
          "text": [
            "\rEpoch:  60%|██████    | 9/15 [09:47<06:35, 65.90s/it]"
          ],
          "name": "stderr"
        },
        {
          "output_type": "stream",
          "text": [
            "Train loss: 0.04888908512699996\n"
          ],
          "name": "stdout"
        },
        {
          "output_type": "stream",
          "text": [
            "\rEpoch:  67%|██████▋   | 10/15 [10:53<05:30, 66.01s/it]"
          ],
          "name": "stderr"
        },
        {
          "output_type": "stream",
          "text": [
            "Train loss: 0.039409482586503466\n"
          ],
          "name": "stdout"
        },
        {
          "output_type": "stream",
          "text": [
            "\rEpoch:  73%|███████▎  | 11/15 [12:00<04:24, 66.09s/it]"
          ],
          "name": "stderr"
        },
        {
          "output_type": "stream",
          "text": [
            "Train loss: 0.03732204148002023\n"
          ],
          "name": "stdout"
        },
        {
          "output_type": "stream",
          "text": [
            "\rEpoch:  80%|████████  | 12/15 [13:06<03:18, 66.11s/it]"
          ],
          "name": "stderr"
        },
        {
          "output_type": "stream",
          "text": [
            "Train loss: 0.026011841526309396\n"
          ],
          "name": "stdout"
        },
        {
          "output_type": "stream",
          "text": [
            "\rEpoch:  87%|████████▋ | 13/15 [14:12<02:12, 66.11s/it]"
          ],
          "name": "stderr"
        },
        {
          "output_type": "stream",
          "text": [
            "Train loss: 0.02160569904695\n"
          ],
          "name": "stdout"
        },
        {
          "output_type": "stream",
          "text": [
            "\rEpoch:  93%|█████████▎| 14/15 [15:18<01:06, 66.13s/it]"
          ],
          "name": "stderr"
        },
        {
          "output_type": "stream",
          "text": [
            "Train loss: 0.01985023991352654\n"
          ],
          "name": "stdout"
        },
        {
          "output_type": "stream",
          "text": [
            "Epoch: 100%|██████████| 15/15 [16:24<00:00, 65.65s/it]"
          ],
          "name": "stderr"
        },
        {
          "output_type": "stream",
          "text": [
            "Train loss: 0.017492498345095257\n"
          ],
          "name": "stdout"
        },
        {
          "output_type": "stream",
          "text": [
            "\n"
          ],
          "name": "stderr"
        }
      ]
    },
    {
      "cell_type": "code",
      "metadata": {
        "colab": {
          "base_uri": "https://localhost:8080/",
          "height": 1000
        },
        "id": "oWMz32fYdYcC",
        "outputId": "86e4de5f-8e2a-4dc6-e514-7ac4e33c8eaa"
      },
      "source": [
        "model.eval()\n",
        "\n",
        "y_true = []\n",
        "y_pred = []\n",
        "out_name=[]\n",
        "eval_loss, eval_accuracy = 0, 0\n",
        "nb_eval_steps, nb_eval_examples = 0, 0\n",
        "\n",
        "for batch in valid_dataloader:\n",
        "    batch = tuple(t.to(device) for t in batch)\n",
        "    input_ids, input_mask, label_ids = batch\n",
        "    with torch.no_grad():\n",
        "        logits = model(input_ids, token_type_ids=None, attention_mask=input_mask,)\n",
        "    logits = logits.detach().cpu().numpy()\n",
        "    logits = [list(p) for p in np.argmax(logits, axis=2)]\n",
        "    label_ids = label_ids.to('cpu').numpy()\n",
        "    input_mask = input_mask.to('cpu').numpy()\n",
        "    n_input_ids = input_ids.to('cpu').numpy()\n",
        "    for i,mask in enumerate(input_mask):\n",
        "        temp_1 = [] # Real one\n",
        "        temp_2 = [] # Predict one\n",
        "        temp_3 = []\n",
        "        b_name=False\n",
        "        name=[]\n",
        "        sentence=tokenizer.convert_ids_to_tokens(input_ids[i].to('cpu').numpy())\n",
        "        test=''\n",
        "        q=False\n",
        "        for j in range(len(sentence)):\n",
        "\n",
        "          if 'B-CLG' in idx2tag[label_ids[i][j]]:\n",
        "            q=True\n",
        "          if q:\n",
        "            test+=sentence[j].replace(\"#\",'')\n",
        "          if 'L-CLG' in idx2tag[label_ids[i][j]]:\n",
        "            test+=\"|\"\n",
        "            q=False\n",
        "        if len(test):\n",
        "          print(\"In Resume:\",test)\n",
        "        for j, m in enumerate(mask):\n",
        "            if m:\n",
        "                if idx2tag[label_ids[i][j]] != \"X\" and idx2tag[label_ids[i][j]] != \"[CLS]\" and idx2tag[label_ids[i][j]] != \"[SEP]\" : # Exclude the X label\n",
        "                    temp_1.append(idx2tag[label_ids[i][j]])\n",
        "                    temp_2.append(idx2tag[logits[i][j]])\n",
        "                if idx2tag[logits[i][j]]=='B-CLG':\n",
        "                  b_name=True\n",
        "                if b_name:\n",
        "                    name.append(n_input_ids[i][j])\n",
        "                if idx2tag[logits[i][j]]=='L-CLG':\n",
        "                  b_name=False\n",
        "                  temp_3.append(tokenizer.convert_ids_to_tokens(name))\n",
        "                  n=''\n",
        "                  for t in tokenizer.convert_ids_to_tokens(name):\n",
        "                    n+=t.replace(\"#\",'')\n",
        "                  if len(n):\n",
        "                    print(\"Detected:\",n)\n",
        "                  print(\"_______________________________________________________\")\n",
        "                    #sen.append(input_ids[i][j])\n",
        "                    #for t in tokens:\n",
        "                        #print(tokenizer.convert_ids_to_tokens(input_ids[i][j]))\n",
        "            else:\n",
        "                break\n",
        "        \n",
        "            \n",
        "        y_true.append(temp_1)\n",
        "        y_pred.append(temp_2)\n",
        "        out_name.append(temp_3)\n",
        "#print(\"y_true:\",y_true)\n",
        "#print(\"y_pred:\",y_pred)\n",
        "#print(\"name:\",out_name)\n",
        "'''\n",
        "print(\"f1 socre: %f\"%(f1_score(y_true, y_pred)))\n",
        "print(\"Accuracy score: %f\"%(accuracy_score(y_true, y_pred)))\n",
        "\n",
        "print(classification_report(y_true, y_pred,digits=4)) \n",
        "'''"
      ],
      "execution_count": 46,
      "outputs": [
        {
          "output_type": "stream",
          "text": [
            "Detected: SaranathanCollegeofEngineering\n",
            "_______________________________________________________\n",
            "Detected: engineeringcolleges\n",
            "_______________________________________________________\n",
            "In Resume: Dr.R.M.L.SCO|\n",
            "Detected: R.D.SCO\n",
            "_______________________________________________________\n",
            "Detected: R.D.SCODr.R.M.L.SCO\n",
            "_______________________________________________________\n",
            "Detected: NehruMemorialCollegePut\n",
            "_______________________________________________________\n",
            "Detected: NehruMemorialCollegePut\n",
            "_______________________________________________________\n",
            "In Resume: GreatLakesInstituteOfManagement|AdhiparasakthiEngineeringCollege(AnnaUniversity)|\n",
            "Detected: GreatLakesInstituteOfManagement\n",
            "_______________________________________________________\n",
            "Detected: GreatLakesInstituteOfManagementAdhiparasakthiEngineeringCollege\n",
            "_______________________________________________________\n",
            "Detected: GreatLakesInstituteOfManagementAdhiparasakthiEngineeringCollege\n",
            "_______________________________________________________\n",
            "Detected: AnnaUniversity-Chennai,TamilNaduDecember2009B.SC.MSUniversity\n",
            "_______________________________________________________\n",
            "In Resume: ChitkaraUniversity2014to2018ClassXIITripleMPublicSchool2013to2014UniversityorBoardhttps://www.indeed.com/r/Gunjan-Nayyar/a5819ca6733a0f41?isid=rex-download&ikw=download-top&co=IN[SEP][PAD][PAD][PAD][PAD][PAD][PAD][PAD][PAD][PAD][PAD][PAD][PAD][PAD][PAD][PAD][PAD][PAD][PAD][PAD][PAD][PAD][PAD][PAD][PAD][PAD][PAD][PAD][PAD][PAD][PAD][PAD][PAD][PAD][PAD][PAD][PAD][PAD][PAD][PAD][PAD][PAD][PAD][PAD][PAD][PAD][PAD][PAD][PAD][PAD][PAD][PAD][PAD][PAD][PAD][PAD][PAD][PAD][PAD][PAD][PAD][PAD][PAD][PAD][PAD][PAD][PAD][PAD][PAD][PAD][PAD][PAD][PAD][PAD][PAD][PAD][PAD][PAD][PAD][PAD][PAD][PAD][PAD][PAD][PAD][PAD][PAD][PAD][PAD][PAD][PAD][PAD][PAD][PAD][PAD][PAD][PAD][PAD][PAD][PAD][PAD][PAD][PAD][PAD][PAD][PAD][PAD][PAD][PAD][PAD][PAD][PAD][PAD][PAD][PAD][PAD][PAD][PAD][PAD][PAD][PAD][PAD][PAD][PAD][PAD][PAD][PAD][PAD][PAD][PAD][PAD][PAD][PAD][PAD][PAD][PAD][PAD][PAD][PAD][PAD][PAD][PAD][PAD][PAD][PAD][PAD][PAD][PAD][PAD][PAD][PAD][PAD][PAD][PAD][PAD][PAD][PAD][PAD][PAD][PAD][PAD][PAD][PAD][PAD][PAD][PAD][PAD][PAD][PAD][PAD][PAD][PAD][PAD][PAD][PAD][PAD][PAD][PAD][PAD][PAD][PAD][PAD][PAD][PAD][PAD][PAD][PAD][PAD][PAD][PAD][PAD][PAD][PAD][PAD][PAD][PAD][PAD][PAD][PAD][PAD][PAD][PAD][PAD][PAD][PAD][PAD][PAD][PAD][PAD][PAD][PAD][PAD][PAD][PAD][PAD][PAD][PAD][PAD][PAD][PAD][PAD][PAD][PAD][PAD][PAD][PAD][PAD][PAD][PAD][PAD][PAD][PAD][PAD][PAD][PAD][PAD][PAD][PAD][PAD][PAD][PAD][PAD][PAD][PAD][PAD][PAD][PAD][PAD][PAD][PAD][PAD][PAD][PAD][PAD][PAD][PAD][PAD][PAD][PAD][PAD][PAD][PAD][PAD][PAD][PAD][PAD][PAD][PAD][PAD][PAD][PAD][PAD][PAD][PAD][PAD][PAD][PAD][PAD][PAD][PAD][PAD]\n",
            "In Resume: CHHATTISGARHSWAMIVIVEKANANDATECHNICALUN|\n",
            "In Resume: MicrosoftVirtualAcademyDecember2016SKILLSC,C++,DataStructure,Java(1year)ADDITIONALINFORMATION[UNK]ManagerialSkills:Organizerandvolunteeratmanyinterandintracollegeevents,symposiaetc[SEP][PAD][PAD][PAD][PAD][PAD][PAD][PAD][PAD][PAD][PAD][PAD][PAD][PAD][PAD][PAD][PAD][PAD][PAD][PAD][PAD][PAD][PAD][PAD][PAD][PAD][PAD][PAD][PAD][PAD][PAD][PAD][PAD][PAD][PAD][PAD][PAD][PAD][PAD][PAD][PAD][PAD][PAD][PAD][PAD][PAD][PAD][PAD][PAD][PAD][PAD][PAD][PAD][PAD][PAD][PAD][PAD][PAD][PAD][PAD][PAD][PAD][PAD][PAD][PAD][PAD][PAD][PAD][PAD][PAD][PAD][PAD][PAD][PAD][PAD][PAD][PAD][PAD][PAD][PAD][PAD][PAD][PAD][PAD][PAD][PAD][PAD][PAD][PAD][PAD][PAD][PAD][PAD][PAD][PAD][PAD][PAD][PAD][PAD][PAD][PAD][PAD][PAD][PAD][PAD][PAD][PAD][PAD][PAD][PAD][PAD][PAD][PAD][PAD][PAD][PAD][PAD][PAD][PAD][PAD][PAD][PAD][PAD][PAD][PAD][PAD][PAD][PAD][PAD][PAD][PAD][PAD][PAD][PAD][PAD][PAD][PAD][PAD][PAD][PAD][PAD][PAD][PAD][PAD][PAD][PAD][PAD][PAD][PAD][PAD][PAD][PAD][PAD][PAD][PAD][PAD][PAD][PAD][PAD][PAD][PAD][PAD][PAD][PAD][PAD][PAD][PAD][PAD][PAD][PAD][PAD][PAD][PAD][PAD][PAD][PAD][PAD][PAD][PAD][PAD][PAD][PAD][PAD][PAD][PAD][PAD][PAD][PAD][PAD][PAD][PAD][PAD][PAD][PAD][PAD][PAD][PAD][PAD][PAD][PAD][PAD][PAD][PAD][PAD][PAD][PAD][PAD][PAD][PAD][PAD][PAD][PAD][PAD][PAD][PAD][PAD][PAD][PAD][PAD][PAD][PAD][PAD][PAD][PAD][PAD][PAD][PAD][PAD][PAD][PAD][PAD][PAD][PAD][PAD][PAD][PAD][PAD][PAD][PAD][PAD][PAD][PAD][PAD][PAD][PAD][PAD][PAD][PAD][PAD][PAD][PAD][PAD][PAD][PAD][PAD][PAD][PAD][PAD][PAD][PAD][PAD][PAD][PAD][PAD][PAD][PAD][PAD][PAD][PAD][PAD][PAD][PAD][PAD][PAD][PAD][PAD][PAD][PAD][PAD][PAD][PAD][PAD][PAD][PAD][PAD][PAD][PAD][PAD][PAD][PAD][PAD][PAD][PAD][PAD][PAD][PAD][PAD][PAD][PAD][PAD][PAD][PAD][PAD][PAD][PAD][PAD][PAD][PAD][PAD][PAD][PAD][PAD][PAD][PAD][PAD][PAD][PAD][PAD][PAD][PAD][PAD][PAD][PAD][PAD][PAD][PAD][PAD][PAD][PAD][PAD][PAD][PAD][PAD][PAD][PAD][PAD][PAD][PAD][PAD][PAD][PAD][PAD][PAD][PAD][PAD][PAD][PAD][PAD][PAD][PAD][PAD][PAD][PAD][PAD][PAD][PAD][PAD][PAD][PAD][PAD][PAD][PAD][PAD][PAD]\n",
            "In Resume: PondicherryUniversity|JawaharlalNehruTechnologicalUniversity|\n",
            "Detected: PondicherryUniversity\n",
            "_______________________________________________________\n",
            "Detected: PondicherryUniversityJawaharlalNehruTechnologicalUniversity\n",
            "_______________________________________________________\n",
            "In Resume: SSVPS’sLateB.S.DeoreCollegeofEngineering|\n",
            "Detected: SSVPS’sLateB.S.DeoreCollegeofEngineering\n",
            "_______________________________________________________\n",
            "In Resume: SikkimManipalUniversity|UniversityofCalcutta|\n",
            "Detected: ManipalUniversity2013BachelorofArtsUniversityofCalcutta\n",
            "_______________________________________________________\n",
            "Detected: VivekanandaEngineeringCollegeforWomen\n",
            "_______________________________________________________\n",
            "In Resume: GeorgiaInstituteofTechnology|\n",
            "Detected: GeorgiaInstituteofTechnology\n",
            "_______________________________________________________\n",
            "In Resume: TrueVisionTechnology|KSVUniversity|GujaratUniversityApril2013SKILLSASP(1year),ASP.NET(1year),MSASP(1year),SOFTWARETESTING(Lessthan1year),TESTING(Lessthan1year)https://www.indeed.com/r/Hemil-Bhavsar/ce3a928d837ce9e1?isid=rex-download&ikw=download-top&co=INADDITIONALINFORMATIONTechnicalskillset:•ManualTestingTechniques•WebApplicationtesting•STLC(SoftwareTestingLifeCycle)process•VerificationandValidationprocess•ProgrammingLanguage:SoftwareTesting,ASP.NetwithC•Frameworks:MicrosoftVisualStudio2010,Frameworks3.5,Frameworks(C)4.0,4.5•Databasetools:MySQL,SQLServer2008,SQLServer2010,MS-Access2008•ReportgenerationTool:CrystalReport[SEP][PAD][PAD][PAD][PAD][PAD][PAD][PAD][PAD][PAD][PAD][PAD][PAD][PAD][PAD][PAD][PAD][PAD][PAD][PAD][PAD][PAD][PAD][PAD][PAD][PAD][PAD][PAD][PAD][PAD][PAD][PAD][PAD][PAD][PAD][PAD][PAD][PAD][PAD][PAD][PAD][PAD][PAD][PAD][PAD][PAD][PAD][PAD][PAD][PAD][PAD][PAD][PAD][PAD][PAD][PAD][PAD][PAD][PAD][PAD][PAD][PAD][PAD][PAD][PAD][PAD][PAD][PAD][PAD][PAD][PAD][PAD][PAD][PAD][PAD][PAD][PAD][PAD][PAD][PAD][PAD][PAD][PAD][PAD][PAD][PAD][PAD][PAD][PAD][PAD][PAD][PAD][PAD][PAD][PAD][PAD][PAD][PAD][PAD][PAD][PAD][PAD][PAD][PAD][PAD][PAD][PAD][PAD][PAD][PAD][PAD][PAD][PAD][PAD][PAD][PAD][PAD][PAD][PAD][PAD][PAD][PAD][PAD][PAD][PAD][PAD][PAD][PAD][PAD][PAD][PAD][PAD][PAD][PAD][PAD][PAD][PAD][PAD][PAD][PAD][PAD][PAD][PAD][PAD][PAD][PAD][PAD][PAD][PAD][PAD][PAD][PAD][PAD][PAD][PAD][PAD][PAD][PAD][PAD][PAD][PAD][PAD][PAD][PAD][PAD][PAD][PAD][PAD][PAD][PAD][PAD][PAD][PAD][PAD][PAD][PAD][PAD][PAD][PAD][PAD][PAD]\n",
            "Detected: KSVUniversity\n",
            "_______________________________________________________\n",
            "Detected: KSVUniversityGujaratUniversity\n",
            "_______________________________________________________\n",
            "In Resume: JawaharlalNehruTechnologyUniversity|\n",
            "Detected: JawaharlalNehruTechnologyUniversity\n",
            "_______________________________________________________\n",
            "In Resume: St.Paul'sAcademy|\n",
            "Detected: WestBengalState2015M.ScinbiologyBallygungeScienceCollege\n",
            "_______________________________________________________\n",
            "Detected: WestBengalState2015M.ScinbiologyBallygungeScienceCollege\n",
            "_______________________________________________________\n",
            "In Resume: BharathiarUniversity|RamakrishnaCollege|\n",
            "Detected: BharathiarUniversity\n",
            "_______________________________________________________\n",
            "Detected: BharathiarUniversity\n",
            "_______________________________________________________\n",
            "Detected: BharathiarUniversityRamakrishnaCollege\n",
            "_______________________________________________________\n",
            "Detected: BharathiarUniversityRamakrishnaCollegeStanesAngloIndianHighSchool\n",
            "_______________________________________________________\n",
            "In Resume: UPTU.India|\n",
            "In Resume: VelammalEngineeringCollege|TamilNaduBoardOfEducation|Hr.Sec.School2010https://www.indeed.com/r/Karthihayini-C/627254c443836b3c?isid=rex-download&ikw=download-top&co=INhttps://www.indeed.com/r/Karthihayini-C/627254c443836b3c?isid=rex-download&ikw=download-top&co=INSKILLSDestructiveTesting(Lessthan1year),FORGE(Lessthan1year),Non-Destructive(Lessthan1year),Non-DestructiveTesting(Lessthan1year),qualitycontrol(Lessthan1year)ADDITIONALINFORMATIONAREASOFINTEREST1[SEP][PAD][PAD][PAD][PAD][PAD][PAD][PAD][PAD][PAD][PAD][PAD][PAD][PAD][PAD][PAD][PAD][PAD][PAD][PAD][PAD][PAD][PAD][PAD][PAD][PAD][PAD][PAD][PAD][PAD][PAD][PAD][PAD][PAD][PAD][PAD][PAD][PAD][PAD][PAD][PAD][PAD][PAD][PAD][PAD][PAD][PAD][PAD][PAD][PAD][PAD][PAD][PAD][PAD][PAD][PAD][PAD][PAD][PAD][PAD][PAD][PAD][PAD][PAD][PAD][PAD][PAD][PAD][PAD][PAD][PAD][PAD][PAD][PAD][PAD][PAD][PAD][PAD][PAD][PAD][PAD][PAD][PAD][PAD][PAD][PAD][PAD][PAD][PAD][PAD][PAD][PAD][PAD][PAD][PAD][PAD][PAD][PAD][PAD][PAD][PAD][PAD][PAD][PAD][PAD][PAD][PAD][PAD][PAD][PAD][PAD][PAD][PAD][PAD][PAD][PAD][PAD][PAD][PAD][PAD][PAD][PAD][PAD][PAD][PAD][PAD][PAD][PAD][PAD][PAD][PAD][PAD][PAD][PAD][PAD][PAD][PAD][PAD][PAD][PAD][PAD][PAD][PAD][PAD][PAD][PAD][PAD][PAD][PAD][PAD][PAD][PAD][PAD][PAD][PAD][PAD][PAD][PAD][PAD][PAD][PAD][PAD][PAD][PAD][PAD][PAD][PAD][PAD][PAD][PAD][PAD][PAD][PAD][PAD][PAD][PAD][PAD][PAD][PAD][PAD][PAD][PAD][PAD][PAD][PAD][PAD][PAD][PAD][PAD][PAD][PAD][PAD][PAD][PAD][PAD][PAD][PAD][PAD][PAD][PAD][PAD][PAD][PAD][PAD][PAD][PAD][PAD][PAD][PAD][PAD][PAD][PAD][PAD][PAD][PAD][PAD][PAD][PAD][PAD][PAD][PAD][PAD][PAD][PAD][PAD][PAD][PAD][PAD][PAD][PAD][PAD][PAD][PAD][PAD][PAD][PAD][PAD][PAD][PAD][PAD][PAD][PAD][PAD][PAD][PAD][PAD][PAD][PAD][PAD][PAD][PAD][PAD][PAD][PAD][PAD][PAD][PAD][PAD][PAD][PAD][PAD][PAD][PAD][PAD][PAD][PAD][PAD][PAD][PAD][PAD][PAD][PAD][PAD][PAD][PAD][PAD][PAD][PAD][PAD][PAD][PAD][PAD][PAD][PAD][PAD][PAD][PAD]\n",
            "Detected: VelammalEngineeringCollege\n",
            "_______________________________________________________\n",
            "Detected: VelammalEngineeringCollegeTamilNaduBoardOfEducation\n",
            "_______________________________________________________\n",
            "Detected: VelammalEngineeringCollegeTamilNaduBoardOfEducation\n",
            "_______________________________________________________\n",
            "In Resume: LovelyProfessionalUniversity|\n",
            "Detected: LovelyProfessionalUniversity\n",
            "_______________________________________________________\n",
            "In Resume: AvinashilingamInstituteforHomeScience&HigherEducationforWomen2013to2015Frenchhttps://www.indeed.com/r/Sowmya-Karanth/a76c9c40c02ed396?isid=rex-download&ikw=download-top&co=INhttps://www.indeed.com/r/Sowmya-Karanth/a76c9c40c02ed396?isid=rex-download&ikw=download-top&co=INS.B.K.Vhighersecondaryschool|AvinashilingamDeemedUniversity|\n",
            "Detected: AvinashilingamInstituteforHomeScience&HigherEducationforWomen\n",
            "_______________________________________________________\n",
            "Detected: AvinashilingamInstituteforHomeScience&HigherEducationforWomenS.B.K.Vhighersecondaryschool2010AvinashilingamDeemedUniversity\n",
            "_______________________________________________________\n",
            "Detected: AvinashilingamInstituteforHomeScience&HigherEducationforWomenS.B.K.Vhighersecondaryschool2010AvinashilingamDeemedUniversity\n",
            "_______________________________________________________\n",
            "In Resume: AmritaSchoolofEngineering|\n",
            "Detected: AmritaSchoolofEngineering\n",
            "_______________________________________________________\n",
            "In Resume: AnnamacharyaInstituteofTechnology|\n",
            "Detected: AnnamacharyaInstituteofTechnology\n",
            "_______________________________________________________\n",
            "In Resume: DayanandaSagarCollegeofEngineering|GovtScienceCollege|\n",
            "Detected: GovtScienceCollege\n",
            "_______________________________________________________\n",
            "In Resume: affiliated-Kota,Rajasthan|\n",
            "_______________________________________________________\n",
            "_______________________________________________________\n",
            "In Resume: AdhichunchanagiriInstituteOfTechnology|\n",
            "Detected: AdhichunchanagiriInstituteOfTechnology\n",
            "_______________________________________________________\n",
            "Detected: AdhichunchanagiriInstituteOfTechnology\n",
            "_______________________________________________________\n",
            "In Resume: GovernmentScienceCollege|R.D.H.S.School|R.D.H.S.School|\n",
            "Detected: GovernmentScienceCollege\n",
            "_______________________________________________________\n",
            "Detected: GovernmentScienceCollegeR.D.H.S.School\n",
            "_______________________________________________________\n",
            "In Resume: ManipalUniversity|LucknowPublicInterCollege|\n",
            "Detected: ManipalUniversity\n",
            "_______________________________________________________\n",
            "Detected: ManipalUniversitySarojInstituteofTechnology&Management\n",
            "_______________________________________________________\n",
            "Detected: ManipalUniversitySarojInstituteofTechnology&ManagementLucknowPublicInterCollege\n",
            "_______________________________________________________\n",
            "In Resume: shivajiUniversity|\n",
            "Detected: shivajiUniversity\n",
            "_______________________________________________________\n",
            "In Resume: BITSPi|BoardofTechnicalEducationSKILLSNetworking/Platform/Drivers/VxworksADDITIONALINFORMATIONKeyStrengths•Over15yearsofexperienceinEthernetDataCommunicationTechnologyEthernetRoutingSwitches,MetroEthernetRoutingSwitches,PlatformandWireless•GoodknowledgeofRealTimeoperatingSystems(Vxworks)andDrivers•Highlyskilledinperforminganalyticalandlogicbuildingfunctionstoprovidefeasiblesolutionstoproblems•Brilliantinterpersonalcoordinationandcommunicationskills•Competentatleading,managingandtrainingteamsondifferentaspectsofdatacommunicationsystemsTechnicalSkillSetSYSTEMSWORKEDON*Datacommunication-MultiServiceTransportNetworkControllerCards,EthernetRoutingSwitch,DOMAINKNOWLEGDE*EnterpriseRouter-L2,L3protocols(MLT,LACP,BGP,STP,SMLT,SLPP,ProviderBridge,IPFIX,VRF,RSPFastpath)https://www.indeed.com/r/Sridevi-H/63703b24aaaa54e4?isid=rex-download&ikw=download-top&co=IN*Platform-TaskArchitecture,Logging,,FileSystem,Debuggingtools,Crashanalysis,ChassisManagement*Wireless-802.11SplitAPArchitecture,WMM802.11EOPERATINGSYSTEMSandLANGUAGEPROFICIENCY/HARDWAREPLATFORM*Programming/Library/Platform-C,VisualBasics,Unix,RTOS-VxWorks,Windows,PowerPCbasedprocessor,TOOLS*Clarify,Clearcase,SourceInsight,NetworkTrafficSimulatorslikeIXIA,SmartBits,NetworkProtocolAnalyzerslikeEtherealandWireShark[SEP][PAD][PAD][PAD][PAD][PAD][PAD][PAD][PAD][PAD][PAD][PAD][PAD][PAD][PAD][PAD][PAD][PAD][PAD][PAD][PAD][PAD][PAD][PAD][PAD][PAD][PAD][PAD][PAD][PAD][PAD][PAD][PAD][PAD][PAD][PAD][PAD][PAD]\n",
            "_______________________________________________________\n",
            "In Resume: SurendranathcollegeBarr|\n",
            "In Resume: NitteMeenakshiInstituteofTechnology|\n",
            "Detected: NitteMeenakshiInstituteofTechnology\n",
            "_______________________________________________________\n",
            "In Resume: KuppamEngineeringCollege|VaniJrcollege|PadmavaniHighSchool2008ADDITIONALINFORMATIONTechnicalSkills:Tools:ManualTesting,Selenium(SeleniumIDE,SeleniumWebDriver),EclipseIDE.Languages:C,CoreJavaDatabase:SQLOperatingSystems:WindowsXP,7,8ManagementTool:HPQualityCenterDefectTrackingTool:JIRAProjectsSummary:Technologies:J2EE,Oracle10g,Windows7UsedTools:Selenium,CoreJava,HPQCandEclipse[SEP][PAD][PAD][PAD][PAD][PAD][PAD][PAD][PAD][PAD][PAD][PAD][PAD][PAD][PAD][PAD][PAD][PAD][PAD][PAD][PAD][PAD][PAD][PAD][PAD][PAD][PAD][PAD][PAD][PAD][PAD][PAD][PAD][PAD][PAD][PAD][PAD][PAD][PAD][PAD][PAD][PAD][PAD][PAD][PAD][PAD][PAD][PAD][PAD][PAD][PAD][PAD][PAD][PAD][PAD][PAD][PAD][PAD][PAD][PAD][PAD][PAD][PAD][PAD][PAD][PAD][PAD][PAD][PAD][PAD][PAD][PAD][PAD][PAD][PAD][PAD][PAD][PAD][PAD][PAD][PAD][PAD][PAD][PAD][PAD][PAD][PAD][PAD][PAD][PAD][PAD][PAD][PAD][PAD][PAD][PAD][PAD][PAD][PAD][PAD][PAD][PAD][PAD][PAD][PAD][PAD][PAD][PAD][PAD][PAD][PAD][PAD][PAD][PAD][PAD][PAD][PAD][PAD][PAD][PAD][PAD][PAD][PAD][PAD][PAD][PAD][PAD][PAD][PAD][PAD][PAD][PAD][PAD][PAD][PAD][PAD][PAD][PAD][PAD][PAD][PAD][PAD][PAD][PAD][PAD][PAD][PAD][PAD][PAD][PAD][PAD][PAD][PAD][PAD][PAD][PAD][PAD][PAD][PAD][PAD][PAD][PAD][PAD][PAD][PAD][PAD][PAD][PAD][PAD][PAD][PAD][PAD][PAD][PAD][PAD][PAD][PAD][PAD][PAD][PAD][PAD][PAD][PAD][PAD][PAD][PAD][PAD][PAD][PAD][PAD][PAD][PAD][PAD][PAD][PAD][PAD][PAD][PAD][PAD][PAD][PAD][PAD][PAD][PAD][PAD][PAD][PAD][PAD][PAD][PAD][PAD][PAD][PAD][PAD][PAD][PAD][PAD][PAD][PAD][PAD][PAD][PAD][PAD][PAD][PAD][PAD][PAD][PAD][PAD][PAD][PAD][PAD][PAD][PAD][PAD][PAD][PAD][PAD][PAD][PAD][PAD][PAD][PAD][PAD][PAD][PAD][PAD][PAD][PAD][PAD][PAD][PAD][PAD][PAD][PAD][PAD][PAD][PAD][PAD][PAD][PAD][PAD][PAD][PAD][PAD][PAD][PAD][PAD][PAD][PAD][PAD][PAD][PAD][PAD][PAD][PAD][PAD][PAD][PAD][PAD][PAD][PAD][PAD][PAD][PAD][PAD][PAD][PAD][PAD][PAD][PAD][PAD][PAD][PAD][PAD][PAD][PAD][PAD][PAD][PAD][PAD][PAD][PAD][PAD][PAD][PAD][PAD][PAD][PAD][PAD][PAD][PAD][PAD][PAD][PAD][PAD][PAD][PAD][PAD][PAD][PAD][PAD][PAD][PAD][PAD][PAD][PAD][PAD][PAD][PAD][PAD][PAD][PAD][PAD][PAD][PAD][PAD]\n",
            "Detected: KuppamEngineeringCollege\n",
            "_______________________________________________________\n",
            "Detected: KuppamEngineeringCollegeA.PVaniJrcollege\n",
            "_______________________________________________________\n",
            "Detected: KuppamEngineeringCollegeA.PVaniJrcollegeA.PPadmavaniHighSchool\n",
            "_______________________________________________________\n",
            "_______________________________________________________\n",
            "Detected: A.PMargadarshiJuniorCollege2012SSCBoardOfSecondaryEducation\n",
            "_______________________________________________________\n",
            "Detected: JawaharlalNehruTechnologicalUniversity\n",
            "_______________________________________________________\n",
            "In Resume: ardscollageka|\n",
            "In Resume: IndraprasthaEngineeringCollege,UttarPradeshTechnicalUniversity|\n",
            "Detected: IndraprasthaEngineeringCollege\n",
            "_______________________________________________________\n",
            "Detected: IndraprasthaEngineeringCollegeTechnicalUniversity\n",
            "_______________________________________________________\n",
            "Detected: IndraprasthaEngineeringCollegeTechnicalUniversityGreenfieldsPublicSchool\n",
            "_______________________________________________________\n",
            "In Resume: OsmaniaUniversity|\n",
            "Detected: College(OsmaniaUniversity)\n",
            "_______________________________________________________\n",
            "In Resume: NationalInstituteOfTechnology2016St.John'sSchool2009SKILLSHtml,Css,Javascript,Salesforce[SEP][PAD][PAD][PAD][PAD][PAD][PAD][PAD][PAD][PAD][PAD][PAD][PAD][PAD][PAD][PAD][PAD][PAD][PAD][PAD][PAD][PAD][PAD][PAD][PAD][PAD][PAD][PAD][PAD][PAD][PAD][PAD][PAD][PAD][PAD][PAD][PAD][PAD][PAD][PAD][PAD][PAD][PAD][PAD][PAD][PAD][PAD][PAD][PAD][PAD][PAD][PAD][PAD][PAD][PAD][PAD][PAD][PAD][PAD][PAD][PAD][PAD][PAD][PAD][PAD][PAD][PAD][PAD][PAD][PAD][PAD][PAD][PAD][PAD][PAD][PAD][PAD][PAD][PAD][PAD][PAD][PAD][PAD][PAD][PAD][PAD][PAD][PAD][PAD][PAD][PAD][PAD][PAD][PAD][PAD][PAD][PAD][PAD][PAD][PAD][PAD][PAD][PAD][PAD][PAD][PAD][PAD][PAD][PAD][PAD][PAD][PAD][PAD][PAD][PAD][PAD][PAD][PAD][PAD][PAD][PAD][PAD][PAD][PAD][PAD][PAD][PAD][PAD][PAD][PAD][PAD][PAD][PAD][PAD][PAD][PAD][PAD][PAD][PAD][PAD][PAD][PAD][PAD][PAD][PAD][PAD][PAD][PAD][PAD][PAD][PAD][PAD][PAD][PAD][PAD][PAD][PAD][PAD][PAD][PAD][PAD][PAD][PAD][PAD][PAD][PAD][PAD][PAD][PAD][PAD][PAD][PAD][PAD][PAD][PAD][PAD][PAD][PAD][PAD][PAD][PAD][PAD][PAD][PAD][PAD][PAD][PAD][PAD][PAD][PAD][PAD][PAD][PAD][PAD][PAD][PAD][PAD][PAD][PAD][PAD][PAD][PAD][PAD][PAD][PAD][PAD][PAD][PAD][PAD][PAD][PAD][PAD][PAD][PAD][PAD][PAD][PAD][PAD][PAD][PAD][PAD][PAD][PAD][PAD][PAD][PAD][PAD][PAD][PAD][PAD][PAD][PAD][PAD][PAD][PAD][PAD][PAD][PAD][PAD][PAD][PAD][PAD][PAD][PAD][PAD][PAD][PAD][PAD][PAD][PAD][PAD][PAD][PAD][PAD][PAD][PAD][PAD][PAD][PAD][PAD][PAD][PAD][PAD][PAD][PAD][PAD][PAD][PAD][PAD][PAD][PAD][PAD][PAD][PAD][PAD][PAD][PAD][PAD][PAD][PAD][PAD][PAD][PAD][PAD][PAD][PAD][PAD][PAD][PAD][PAD][PAD][PAD][PAD][PAD][PAD][PAD][PAD][PAD][PAD][PAD][PAD][PAD][PAD][PAD][PAD][PAD][PAD][PAD][PAD][PAD][PAD][PAD][PAD][PAD][PAD][PAD][PAD][PAD][PAD][PAD][PAD][PAD][PAD][PAD][PAD][PAD][PAD][PAD][PAD][PAD][PAD][PAD][PAD][PAD][PAD][PAD][PAD][PAD][PAD][PAD][PAD][PAD][PAD][PAD][PAD][PAD][PAD][PAD][PAD][PAD][PAD][PAD][PAD][PAD][PAD][PAD][PAD][PAD][PAD][PAD][PAD][PAD][PAD][PAD][PAD][PAD][PAD][PAD][PAD][PAD][PAD][PAD][PAD][PAD][PAD][PAD][PAD][PAD][PAD][PAD][PAD][PAD][PAD][PAD][PAD][PAD][PAD][PAD][PAD][PAD][PAD][PAD][PAD][PAD][PAD][PAD][PAD][PAD][PAD][PAD][PAD]\n",
            "Detected: NationalInstituteOfTechnology\n",
            "_______________________________________________________\n",
            "Detected: AcharyaNagarjunaUniversity\n",
            "_______________________________________________________\n",
            "In Resume: VisveswaraiahTechnologicalUniversity|Al-AmeenPUCollege|RajivGandhiInstituteofTechnology|\n",
            "Detected: VisveswaraiahTechnologicalUniversity\n",
            "_______________________________________________________\n",
            "Detected: VisveswaraiahTechnologicalUniversity\n",
            "_______________________________________________________\n",
            "Detected: VisveswaraiahTechnologicalUniversityRajivGandhiInstituteofTechnology\n",
            "_______________________________________________________\n",
            "In Resume: TrueVisionTechnology|\n",
            "In Resume: MaduraiKamarajUniversity|\n",
            "Detected: MaduraiKamarajUniversity\n",
            "_______________________________________________________\n",
            "In Resume: C-D|\n",
            "Detected: IITR\n",
            "_______________________________________________________\n",
            "Detected: IITR\n",
            "_______________________________________________________\n",
            "In Resume: PunjabTechnicalUniversity-Chandigarh,Chandigarh2017BCABharatiVidyapeethUniversity-Pune,Maharashtra2014CBSECrescentPublicSchool-NewDelhi,Delhi2011CBSECrescentPublicSchool-NewDelhi,Delhi2009SKILLSACCESS(Lessthan1year),BUYING(Lessthan1year),BUYING/PROCUREMENT(Lessthan1year),CSS(Lessthan1year),DATABASE(Lessthan1year)ADDITIONALINFORMATIONI.TSkillshttps://www.indeed.com/r/Dipesh-Gulati/17a483e9e19f9106?isid=rex-download&ikw=download-top&co=IN•OperatingSystems:Windows-7,10•Language:Java•Database:SQLServer•OtherTechnologies:HTML,CSS,MicrosoftOffice(Word,Excel,PowerPoint,Access)Internship•Organization:GlobalInfotech,Noida•Duration:6MonthsProjectsHandled-SHOPPINGKART1[SEP][PAD][PAD][PAD][PAD][PAD][PAD][PAD][PAD][PAD][PAD][PAD][PAD][PAD][PAD][PAD][PAD][PAD][PAD][PAD][PAD][PAD][PAD][PAD][PAD][PAD][PAD][PAD][PAD][PAD][PAD][PAD][PAD][PAD][PAD][PAD][PAD][PAD][PAD][PAD][PAD][PAD][PAD][PAD][PAD][PAD][PAD][PAD][PAD][PAD][PAD][PAD][PAD][PAD][PAD][PAD][PAD][PAD][PAD][PAD][PAD][PAD][PAD][PAD][PAD][PAD][PAD][PAD][PAD][PAD][PAD][PAD][PAD][PAD][PAD][PAD][PAD][PAD][PAD][PAD][PAD][PAD][PAD][PAD][PAD][PAD][PAD][PAD][PAD][PAD][PAD][PAD][PAD][PAD][PAD][PAD][PAD][PAD][PAD][PAD][PAD][PAD][PAD][PAD][PAD][PAD][PAD][PAD][PAD][PAD][PAD][PAD][PAD][PAD][PAD][PAD][PAD][PAD][PAD][PAD][PAD][PAD][PAD][PAD][PAD][PAD][PAD][PAD][PAD][PAD][PAD][PAD][PAD][PAD][PAD][PAD][PAD][PAD][PAD][PAD][PAD][PAD][PAD][PAD][PAD][PAD][PAD][PAD][PAD][PAD][PAD][PAD][PAD][PAD][PAD][PAD][PAD][PAD][PAD][PAD][PAD][PAD][PAD][PAD][PAD][PAD][PAD][PAD][PAD][PAD][PAD][PAD][PAD][PAD][PAD][PAD][PAD][PAD][PAD][PAD][PAD][PAD][PAD][PAD][PAD][PAD][PAD][PAD][PAD][PAD][PAD][PAD][PAD][PAD][PAD][PAD][PAD][PAD][PAD][PAD][PAD][PAD][PAD][PAD][PAD][PAD][PAD][PAD][PAD][PAD][PAD][PAD][PAD][PAD][PAD]\n",
            "Detected: PunjabTechnicalUniversity\n",
            "_______________________________________________________\n",
            "Detected: PunjabTechnicalUniversityBharatiVidyapeethUniversity\n",
            "_______________________________________________________\n",
            "Detected: PunjabTechnicalUniversityBharatiVidyapeethUniversityCrescentPublicSchool\n",
            "_______________________________________________________\n",
            "Detected: PunjabTechnicalUniversityBharatiVidyapeethUniversityCrescentPublicSchoolCrescentPublicSchool\n",
            "_______________________________________________________\n",
            "Detected: ST.Josephcollege\n",
            "_______________________________________________________\n",
            "Detected: ST.JosephcollegeAdiSankaraPolytechnicCollege\n",
            "_______________________________________________________\n",
            "In Resume: RamkrishnakridaHigh|\n",
            "In Resume: VSSUT,burlaSKILLSApplicationDevelopment,SoftwareTestinghttps://www.indeed.com/r/Sameer-Kujur/0771f65bfa7aff96?isid=rex-download&ikw=download-top&co=IN[SEP][PAD][PAD][PAD][PAD][PAD][PAD][PAD][PAD][PAD][PAD][PAD][PAD][PAD][PAD][PAD][PAD][PAD][PAD][PAD][PAD][PAD][PAD][PAD][PAD][PAD][PAD][PAD][PAD][PAD][PAD][PAD][PAD][PAD][PAD][PAD][PAD][PAD][PAD][PAD][PAD][PAD][PAD][PAD][PAD][PAD][PAD][PAD][PAD][PAD][PAD][PAD][PAD][PAD][PAD][PAD][PAD][PAD][PAD][PAD][PAD][PAD][PAD][PAD][PAD][PAD][PAD][PAD][PAD][PAD][PAD][PAD][PAD][PAD][PAD][PAD][PAD][PAD][PAD][PAD][PAD][PAD][PAD][PAD][PAD][PAD][PAD][PAD][PAD][PAD][PAD][PAD][PAD][PAD][PAD][PAD][PAD][PAD][PAD][PAD][PAD][PAD][PAD][PAD][PAD][PAD][PAD][PAD][PAD][PAD][PAD][PAD][PAD][PAD][PAD][PAD][PAD][PAD][PAD][PAD][PAD][PAD][PAD][PAD][PAD][PAD][PAD][PAD][PAD][PAD][PAD][PAD][PAD][PAD][PAD][PAD][PAD][PAD][PAD][PAD][PAD][PAD][PAD][PAD][PAD][PAD][PAD][PAD][PAD][PAD][PAD][PAD][PAD][PAD][PAD][PAD][PAD][PAD][PAD][PAD][PAD][PAD][PAD][PAD][PAD][PAD][PAD][PAD][PAD][PAD][PAD][PAD][PAD][PAD][PAD][PAD][PAD][PAD][PAD][PAD][PAD][PAD][PAD][PAD][PAD][PAD][PAD][PAD][PAD][PAD][PAD][PAD][PAD][PAD][PAD][PAD][PAD][PAD][PAD][PAD][PAD][PAD][PAD][PAD][PAD][PAD][PAD][PAD][PAD][PAD][PAD][PAD][PAD][PAD][PAD][PAD][PAD][PAD][PAD][PAD][PAD][PAD][PAD][PAD][PAD][PAD][PAD][PAD][PAD][PAD][PAD][PAD][PAD][PAD][PAD][PAD][PAD][PAD][PAD][PAD][PAD][PAD][PAD][PAD][PAD][PAD][PAD][PAD][PAD][PAD][PAD][PAD][PAD][PAD][PAD][PAD][PAD][PAD][PAD][PAD][PAD][PAD][PAD][PAD][PAD][PAD][PAD][PAD][PAD][PAD][PAD][PAD][PAD][PAD][PAD][PAD][PAD][PAD][PAD][PAD][PAD][PAD][PAD][PAD][PAD][PAD][PAD][PAD][PAD][PAD][PAD][PAD][PAD][PAD][PAD][PAD][PAD][PAD][PAD][PAD][PAD][PAD][PAD][PAD][PAD][PAD][PAD][PAD][PAD][PAD][PAD][PAD][PAD][PAD][PAD][PAD][PAD][PAD][PAD][PAD][PAD][PAD][PAD][PAD][PAD][PAD][PAD][PAD][PAD][PAD][PAD][PAD][PAD][PAD][PAD][PAD][PAD][PAD][PAD][PAD][PAD][PAD][PAD][PAD][PAD][PAD][PAD][PAD][PAD][PAD][PAD][PAD][PAD][PAD][PAD][PAD][PAD][PAD][PAD][PAD][PAD][PAD][PAD][PAD][PAD][PAD][PAD][PAD][PAD][PAD][PAD][PAD][PAD][PAD][PAD][PAD][PAD][PAD][PAD]\n",
            "Detected: VSSUT,b\n",
            "_______________________________________________________\n",
            "Detected: BharathiyarUniversity\n",
            "_______________________________________________________\n",
            "In Resume: Meghnadsahainstituteoftechnology2013SKILLSUft/qtp,alm/qc,jira,jenkins,automationtesting,cicd,servicevitualization,uipathADDITIONALINFORMATIONOperatingSystemsWindows10/8/7/Vista/XPDomainsBankingandFinanceFrameworksDatadrivenframework,KeyworddrivenframeworkToolsHP-UFT,HP-SV,HP-ALM/QC,SOAPUI,JENKINS,UiPathMethodologiesSTLC,Agileandwaterfall.ProjectManagementToolsJIRATECHNICALSKILLS•2.5+yearsofprofessionalexperienceinSQL.•HashandsonexperienceonOracleDB(Oracle11g)•HasextensiveknowledgeofTestingProceduresandvariousphasesofTestingHas2+yearsofexperienceonQC/ALM•Has2+yearsworkingexperienceinAPI&GUItestingusingHPUFT.Has4monthsofexperiencewithuiPath•Has2+yearsworkingexperienceinSOAPUI.•Has1.5+yearworkingexperienceonservicevirtualizationusingHPSVtool.•Has6monthsworkingexperienceinJIRAduringworkunderagilemethodology.•HasundergoneInfosysTrainingin.NetTesting.•HasknowledgeaboutCICD(Continuousintegrationandcontinuousdelivery)PROJECTUNDERTAKENDI\n",
            "In Resume: Magadhuniversity|\n",
            "Detected: Magadhuniversity\n",
            "_______________________________________________________\n"
          ],
          "name": "stdout"
        },
        {
          "output_type": "execute_result",
          "data": {
            "application/vnd.google.colaboratory.intrinsic+json": {
              "type": "string"
            },
            "text/plain": [
              "'\\nprint(\"f1 socre: %f\"%(f1_score(y_true, y_pred)))\\nprint(\"Accuracy score: %f\"%(accuracy_score(y_true, y_pred)))\\n\\nprint(classification_report(y_true, y_pred,digits=4)) \\n'"
            ]
          },
          "metadata": {
            "tags": []
          },
          "execution_count": 46
        }
      ]
    },
    {
      "cell_type": "code",
      "metadata": {
        "colab": {
          "base_uri": "https://localhost:8080/"
        },
        "id": "gKyCtGpAfqJP",
        "outputId": "6c5edfce-37b7-40f6-cfc1-fc37b46b0654"
      },
      "source": [
        "!pip install --no-deps seqeval[gpu]"
      ],
      "execution_count": 36,
      "outputs": [
        {
          "output_type": "stream",
          "text": [
            "Collecting seqeval[gpu]\n",
            "\u001b[?25l  Downloading https://files.pythonhosted.org/packages/9d/2d/233c79d5b4e5ab1dbf111242299153f3caddddbb691219f363ad55ce783d/seqeval-1.2.2.tar.gz (43kB)\n",
            "\r\u001b[K     |███████▌                        | 10kB 20.0MB/s eta 0:00:01\r\u001b[K     |███████████████                 | 20kB 27.6MB/s eta 0:00:01\r\u001b[K     |██████████████████████▌         | 30kB 31.3MB/s eta 0:00:01\r\u001b[K     |██████████████████████████████  | 40kB 28.8MB/s eta 0:00:01\r\u001b[K     |████████████████████████████████| 51kB 7.3MB/s \n",
            "\u001b[?25hBuilding wheels for collected packages: seqeval\n",
            "  Building wheel for seqeval (setup.py) ... \u001b[?25l\u001b[?25hdone\n",
            "  Created wheel for seqeval: filename=seqeval-1.2.2-cp37-none-any.whl size=16172 sha256=1a92cc2666807ffea8ca5588aeaae60d2d20ac11574e09b264ca4c924770f984\n",
            "  Stored in directory: /root/.cache/pip/wheels/52/df/1b/45d75646c37428f7e626214704a0e35bd3cfc32eda37e59e5f\n",
            "Successfully built seqeval\n",
            "Installing collected packages: seqeval\n",
            "Successfully installed seqeval-1.2.2\n"
          ],
          "name": "stdout"
        }
      ]
    },
    {
      "cell_type": "code",
      "metadata": {
        "id": "dFIt9M-OENp4"
      },
      "source": [
        "from seqeval.metrics import classification_report, accuracy_score, f1_score"
      ],
      "execution_count": 37,
      "outputs": []
    },
    {
      "cell_type": "code",
      "metadata": {
        "id": "4aJ53V3XEYyn"
      },
      "source": [
        "https://github.com/kamalkraj/BERT-NER\n"
      ],
      "execution_count": null,
      "outputs": []
    }
  ]
}